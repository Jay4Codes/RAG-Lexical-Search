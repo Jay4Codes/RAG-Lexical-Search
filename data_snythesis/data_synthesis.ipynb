{
 "cells": [
  {
   "cell_type": "code",
   "execution_count": 1,
   "metadata": {},
   "outputs": [],
   "source": [
    "import importlib\n",
    "prompts = importlib.import_module('prompts')\n",
    "importlib.reload(prompts)\n",
    "\n",
    "from openai import OpenAI\n",
    "client = OpenAI()\n",
    "\n",
    "from IPython.display import display, Markdown\n",
    "\n",
    "documents = []\n",
    "\n",
    "chat_history = []"
   ]
  },
  {
   "cell_type": "code",
   "execution_count": 20,
   "metadata": {},
   "outputs": [
    {
     "name": "stdout",
     "output_type": "stream",
     "text": [
      "Employment Contract: 69 tokens\n",
      "Employee Stock Ownership Plan (ESOP): 80 tokens\n",
      "Employee Handbook: 82 tokens\n",
      "Employee Payslip: 72 tokens\n"
     ]
    }
   ],
   "source": [
    "import tiktoken\n",
    "\n",
    "encoding = tiktoken.encoding_for_model(\"gpt-3.5-turbo\")\n",
    "\n",
    "for prompt_dict in prompts.employee_contract_prompts_list:\n",
    "    num_tokens = len(encoding.encode(prompt_dict['doc_description']))\n",
    "    print(f\"{prompt_dict['doc_title']}: {num_tokens} tokens\")"
   ]
  },
  {
   "cell_type": "code",
   "execution_count": 36,
   "metadata": {},
   "outputs": [],
   "source": [
    "for prompt_dict in prompts.employee_contract_prompts_list:\n",
    "\tif prompt_dict['doc_title'] != \"Employee Handbook\":\n",
    "\t\tcontinue\n",
    "\tchat_history.append(\n",
    "\t\t{\n",
    "\t\t\t\"role\": \"user\",\n",
    "\t\t\t\"content\": prompts.base_prompt.format_map(prompt_dict)\n",
    "\t\t})\n",
    "\tresponse = client.chat.completions.create(\n",
    "\t\tmodel=\"gpt-3.5-turbo\",\n",
    "\t\tmessages=chat_history,\n",
    "\t\ttemperature=1,\n",
    "\t\tmax_tokens=750,\n",
    "\t\ttop_p=1,\n",
    "\t\tfrequency_penalty=0,\n",
    "\t\tpresence_penalty=0\n",
    "\t\t)\n",
    "\tchat_history.pop()\n",
    "\tchat_history.append(\n",
    "\t\t{\n",
    "\t\t\t\"role\": \"system\",\n",
    "\t\t\t\"content\": response.choices[0].message.content\n",
    "\t\t})\n",
    "\n",
    "\twith open(f\"../data/hr_docs_templates/{prompt_dict['doc_title']}.md\", \"w\") as f:\n",
    "\t\tf.write(response.choices[0].message.content)\n",
    "\n",
    "\tdocuments.append(response.choices[0].message.content)"
   ]
  },
  {
   "cell_type": "code",
   "execution_count": 37,
   "metadata": {},
   "outputs": [
    {
     "data": {
      "text/plain": [
       "[\"# Employee Handbook\\n\\n## Company Name: Instagram\\n\\n### Table of Contents\\n1. Introduction\\n2. Mission and Values\\n3. Code of Conduct\\n4. Anti-Discrimination and Harassment Policies\\n5. Leave and Attendance Policies\\n6. Performance Management Processes\\n7. Employee Benefits\\n8. Contact Information\\n\\n## 1. Introduction\\nWelcome to Instagram! This Employee Handbook is designed to provide you with important information about our company policies, procedures, benefits, and expectations. Please take the time to read through this handbook carefully and refer back to it whenever you have questions about your rights and responsibilities as an employee.\\n\\n## 2. Mission and Values\\nAt Instagram, our mission is to provide a platform where users can connect, create, and be inspired. We value creativity, diversity, and inclusion in everything we do. It is important that all employees align with our mission and values to create a positive and inclusive work environment.\\n\\n## 3. Code of Conduct\\nEmployees are expected to conduct themselves in a professional manner at all times. This includes treating all colleagues and customers with respect, maintaining confidentiality of company information, and following all company policies and procedures.\\n\\n## 4. Anti-Discrimination and Harassment Policies\\nInstagram is committed to providing a work environment free from discrimination and harassment. Any form of discrimination or harassment based on race, gender, age, religion, or any other protected characteristic will not be tolerated.\\n\\n## 5. Leave and Attendance Policies\\nEmployees are expected to adhere to the company's leave and attendance policies. This includes requesting time off in advance, accurately reporting hours worked, and notifying their supervisor in case of any unplanned absences.\\n\\n## 6. Performance Management Processes\\nPerformance evaluations are conducted regularly to provide feedback on employee performance. Employees are encouraged to set goals and work towards continuous improvement in their roles.\\n\\n## 7. Employee Benefits\\nInstagram offers a variety of benefits to eligible employees, including health insurance, retirement plans, paid time off, and more. Please refer to the HR department for detailed information on the benefits available to you.\\n\\n## 8. Contact Information\\nIf you have any questions or concerns regarding the information in this Employee Handbook, please contact the HR department at [HR email address] or [HR phone number].\\n\\nBy signing below, you acknowledge that you have read and understood the contents of this Employee Handbook and agree to comply with the policies and procedures outlined herein.\\n\\nEmployee Name: [Employee Name]\\nDate: [Date]\\n\\n[Employee Signature]\"]"
      ]
     },
     "execution_count": 37,
     "metadata": {},
     "output_type": "execute_result"
    }
   ],
   "source": [
    "documents"
   ]
  },
  {
   "cell_type": "code",
   "execution_count": 24,
   "metadata": {},
   "outputs": [],
   "source": [
    "import re\n",
    "\n",
    "def extract_variables_from_markdown(markdown_text):\n",
    "    # Regular expression pattern to find variables enclosed in curly braces\n",
    "    pattern = r'\\{([^}]*)\\}'\n",
    "    \n",
    "    # Find all matches of the pattern in the markdown text\n",
    "    matches = re.findall(pattern, markdown_text)\n",
    "    \n",
    "    # Return the matches as a list\n",
    "    return matches\n",
    "\n",
    "variables_employee_contract = extract_variables_from_markdown(documents[0])\n",
    "variables_employee_esop = extract_variables_from_markdown(documents[1])\n",
    "variables_employee_payslip = extract_variables_from_markdown(documents[2])"
   ]
  },
  {
   "cell_type": "code",
   "execution_count": 38,
   "metadata": {},
   "outputs": [
    {
     "data": {
      "text/html": [
       "<div>\n",
       "<style scoped>\n",
       "    .dataframe tbody tr th:only-of-type {\n",
       "        vertical-align: middle;\n",
       "    }\n",
       "\n",
       "    .dataframe tbody tr th {\n",
       "        vertical-align: top;\n",
       "    }\n",
       "\n",
       "    .dataframe thead th {\n",
       "        text-align: right;\n",
       "    }\n",
       "</style>\n",
       "<table border=\"1\" class=\"dataframe\">\n",
       "  <thead>\n",
       "    <tr style=\"text-align: right;\">\n",
       "      <th></th>\n",
       "      <th>employee_contract</th>\n",
       "      <th>employee_esop</th>\n",
       "      <th>employee_payslip</th>\n",
       "    </tr>\n",
       "  </thead>\n",
       "  <tbody>\n",
       "    <tr>\n",
       "      <th>0</th>\n",
       "      <td>employee_name</td>\n",
       "      <td>employee_name</td>\n",
       "      <td>employee_name</td>\n",
       "    </tr>\n",
       "    <tr>\n",
       "      <th>1</th>\n",
       "      <td>employee_position</td>\n",
       "      <td>employee_position</td>\n",
       "      <td>employee_id</td>\n",
       "    </tr>\n",
       "    <tr>\n",
       "      <th>2</th>\n",
       "      <td>employee_department</td>\n",
       "      <td>employee_department</td>\n",
       "      <td>employee_position</td>\n",
       "    </tr>\n",
       "    <tr>\n",
       "      <th>3</th>\n",
       "      <td>employee_responsibilities</td>\n",
       "      <td>esop_allocation</td>\n",
       "      <td>employee_department</td>\n",
       "    </tr>\n",
       "    <tr>\n",
       "      <th>4</th>\n",
       "      <td>employee_compensation</td>\n",
       "      <td>esop_vesting</td>\n",
       "      <td>pay_period_start_date</td>\n",
       "    </tr>\n",
       "    <tr>\n",
       "      <th>5</th>\n",
       "      <td>employee_benefits</td>\n",
       "      <td>esop_criteria</td>\n",
       "      <td>pay_period_end_date</td>\n",
       "    </tr>\n",
       "    <tr>\n",
       "      <th>6</th>\n",
       "      <td>employee_work_hours</td>\n",
       "      <td>esop_valuation</td>\n",
       "      <td>earnings_basic_salary</td>\n",
       "    </tr>\n",
       "    <tr>\n",
       "      <th>7</th>\n",
       "      <td>employee_termination_conditions</td>\n",
       "      <td>esop_rights_responsibilities</td>\n",
       "      <td>earnings_allowances</td>\n",
       "    </tr>\n",
       "    <tr>\n",
       "      <th>8</th>\n",
       "      <td>employee_confidentiality_agreement</td>\n",
       "      <td>employer_name</td>\n",
       "      <td>earnings_bonuses</td>\n",
       "    </tr>\n",
       "    <tr>\n",
       "      <th>9</th>\n",
       "      <td>employee_ip_rights</td>\n",
       "      <td>NaN</td>\n",
       "      <td>earnings_total</td>\n",
       "    </tr>\n",
       "    <tr>\n",
       "      <th>10</th>\n",
       "      <td>employee_company_policies</td>\n",
       "      <td>contract_date</td>\n",
       "      <td>deductions_taxes</td>\n",
       "    </tr>\n",
       "    <tr>\n",
       "      <th>11</th>\n",
       "      <td>employer_name</td>\n",
       "      <td>NaN</td>\n",
       "      <td>deductions_insurance</td>\n",
       "    </tr>\n",
       "    <tr>\n",
       "      <th>12</th>\n",
       "      <td>NaN</td>\n",
       "      <td>NaN</td>\n",
       "      <td>deductions_other</td>\n",
       "    </tr>\n",
       "    <tr>\n",
       "      <th>13</th>\n",
       "      <td>contract_date</td>\n",
       "      <td>NaN</td>\n",
       "      <td>deductions_total</td>\n",
       "    </tr>\n",
       "    <tr>\n",
       "      <th>14</th>\n",
       "      <td>start_date</td>\n",
       "      <td>NaN</td>\n",
       "      <td>net_pay</td>\n",
       "    </tr>\n",
       "  </tbody>\n",
       "</table>\n",
       "</div>"
      ],
      "text/plain": [
       "                     employee_contract                 employee_esop  \\\n",
       "0                        employee_name                 employee_name   \n",
       "1                    employee_position             employee_position   \n",
       "2                  employee_department           employee_department   \n",
       "3            employee_responsibilities               esop_allocation   \n",
       "4                employee_compensation                  esop_vesting   \n",
       "5                    employee_benefits                 esop_criteria   \n",
       "6                  employee_work_hours                esop_valuation   \n",
       "7      employee_termination_conditions  esop_rights_responsibilities   \n",
       "8   employee_confidentiality_agreement                 employer_name   \n",
       "9                   employee_ip_rights                           NaN   \n",
       "10           employee_company_policies                 contract_date   \n",
       "11                       employer_name                           NaN   \n",
       "12                                 NaN                           NaN   \n",
       "13                       contract_date                           NaN   \n",
       "14                          start_date                           NaN   \n",
       "\n",
       "         employee_payslip  \n",
       "0           employee_name  \n",
       "1             employee_id  \n",
       "2       employee_position  \n",
       "3     employee_department  \n",
       "4   pay_period_start_date  \n",
       "5     pay_period_end_date  \n",
       "6   earnings_basic_salary  \n",
       "7     earnings_allowances  \n",
       "8        earnings_bonuses  \n",
       "9          earnings_total  \n",
       "10       deductions_taxes  \n",
       "11   deductions_insurance  \n",
       "12       deductions_other  \n",
       "13       deductions_total  \n",
       "14                net_pay  "
      ]
     },
     "execution_count": 38,
     "metadata": {},
     "output_type": "execute_result"
    }
   ],
   "source": [
    "import pandas as pd\n",
    "\n",
    "df = pd.DataFrame({\n",
    "    \"employee_contract\": pd.Series(variables_employee_contract).drop_duplicates(),\n",
    "    \"employee_esop\": pd.Series(variables_employee_esop).drop_duplicates(),\n",
    "    \"employee_payslip\": pd.Series(variables_employee_payslip).drop_duplicates()\n",
    "})\n",
    "\n",
    "df"
   ]
  },
  {
   "cell_type": "code",
   "execution_count": 2,
   "metadata": {},
   "outputs": [],
   "source": [
    "# display(Markdown(prompts.employee_contract_template.format_map(prompts.employee_contract_list[0])))\n",
    "\n",
    "for employee_dict in prompts.employee_contract_list:\n",
    "    employee_contract_filled = prompts.employee_contract_template.format_map(employee_dict)\n",
    "    with open(f\"../data/hr_docs_filled/employee_contracts/employee_contract_{employee_dict['employee_name']}.md\", \"w\") as f:\n",
    "        f.write(employee_contract_filled)"
   ]
  },
  {
   "cell_type": "code",
   "execution_count": 3,
   "metadata": {},
   "outputs": [],
   "source": [
    "for employee_dict in prompts.employee_esop_list:\n",
    "    employee_esop_filled = prompts.employee_esop_template.format_map(employee_dict)\n",
    "    with open(f\"../data/hr_docs_filled/employee_esops/employee_esop_{employee_dict['employee_name']}.md\", \"w\") as f:\n",
    "        f.write(employee_esop_filled)"
   ]
  },
  {
   "cell_type": "code",
   "execution_count": 6,
   "metadata": {},
   "outputs": [],
   "source": [
    "for employee_dict in prompts.employee_payslip_list:\n",
    "    employee_payslip_filled = prompts.employee_payslip_template.format_map(employee_dict)\n",
    "    with open(f\"../data/hr_docs_filled/employee_payslips/employee_payslip_{employee_dict['employee_name']}.md\", \"w\") as f:\n",
    "        f.write(employee_payslip_filled)"
   ]
  }
 ],
 "metadata": {
  "kernelspec": {
   "display_name": "rag_env",
   "language": "python",
   "name": "python3"
  },
  "language_info": {
   "codemirror_mode": {
    "name": "ipython",
    "version": 3
   },
   "file_extension": ".py",
   "mimetype": "text/x-python",
   "name": "python",
   "nbconvert_exporter": "python",
   "pygments_lexer": "ipython3",
   "version": "3.10.5"
  }
 },
 "nbformat": 4,
 "nbformat_minor": 2
}
