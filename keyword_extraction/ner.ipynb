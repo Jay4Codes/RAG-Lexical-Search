{
 "cells": [
  {
   "cell_type": "markdown",
   "metadata": {},
   "source": [
    "## All the work carried in this notebook for now is experimental and not the final work"
   ]
  },
  {
   "cell_type": "code",
   "execution_count": 1,
   "metadata": {},
   "outputs": [
    {
     "name": "stderr",
     "output_type": "stream",
     "text": [
      "[nltk_data] Downloading package averaged_perceptron_tagger to\n",
      "[nltk_data]     C:\\Users\\JAINAM\\AppData\\Roaming\\nltk_data...\n",
      "[nltk_data]   Package averaged_perceptron_tagger is already up-to-\n",
      "[nltk_data]       date!\n",
      "[nltk_data] Downloading package punkt to\n",
      "[nltk_data]     C:\\Users\\JAINAM\\AppData\\Roaming\\nltk_data...\n",
      "[nltk_data]   Package punkt is already up-to-date!\n",
      "[nltk_data] Downloading package maxent_ne_chunker to\n",
      "[nltk_data]     C:\\Users\\JAINAM\\AppData\\Roaming\\nltk_data...\n",
      "[nltk_data]   Package maxent_ne_chunker is already up-to-date!\n",
      "[nltk_data] Downloading package words to\n",
      "[nltk_data]     C:\\Users\\JAINAM\\AppData\\Roaming\\nltk_data...\n",
      "[nltk_data]   Package words is already up-to-date!\n"
     ]
    },
    {
     "data": {
      "text/plain": [
       "True"
      ]
     },
     "execution_count": 1,
     "metadata": {},
     "output_type": "execute_result"
    }
   ],
   "source": [
    "import nltk\n",
    "from nltk import sent_tokenize, word_tokenize, pos_tag, ne_chunk\n",
    "nltk.download('averaged_perceptron_tagger')\n",
    "nltk.download('punkt')\n",
    "nltk.download('maxent_ne_chunker')\n",
    "nltk.download('words')"
   ]
  },
  {
   "cell_type": "code",
   "execution_count": 10,
   "metadata": {},
   "outputs": [],
   "source": [
    "import markdown\n",
    "\n",
    "# Read the contents of the .md file\n",
    "with open('../data/hr_docs_filled/employee_contracts/employee_contract_Ava Thomas.md', 'rb') as f:\n",
    "    md_text = f.read()\n",
    "\n",
    "# Convert the markdown text to HTML\n",
    "text = markdown.markdown(md_text)"
   ]
  },
  {
   "cell_type": "code",
   "execution_count": 11,
   "metadata": {},
   "outputs": [],
   "source": [
    "sentences = sent_tokenize(text)\n",
    "words = [word_tokenize(sentence) for sentence in sentences]"
   ]
  },
  {
   "cell_type": "code",
   "execution_count": 12,
   "metadata": {},
   "outputs": [],
   "source": [
    "pos_tags = [pos_tag(sentence) for sentence in words]"
   ]
  },
  {
   "cell_type": "code",
   "execution_count": 13,
   "metadata": {},
   "outputs": [],
   "source": [
    "named_entities = [ne_chunk(tagged_sentence) for tagged_sentence in pos_tags]"
   ]
  },
  {
   "cell_type": "code",
   "execution_count": 14,
   "metadata": {},
   "outputs": [
    {
     "data": {
      "text/plain": [
       "[Tree('S', [('<', 'JJ'), ('p', 'NN'), ('>', 'NNP'), (\"b'\\\\r\\\\n\", 'NN'), ('#', '#'), ('Employment', 'NNP'), ('Contract\\\\r\\\\n\\\\r\\\\n', 'NNP'), ('#', '#'), ('#', '#'), ('Employee', 'NNP'), ('Information', 'NN'), (':', ':'), ('\\\\r\\\\n-', 'JJ'), ('<', 'NN'), ('strong', 'JJ'), ('>', 'NNP'), ('Employee', 'NNP'), ('Name', 'NN'), (':', ':'), ('<', 'NN'), ('/strong', 'IN'), ('>', 'JJ'), ('Ava', 'NNP'), ('Thomas\\\\r\\\\n-', 'NNP'), ('<', 'NNP'), ('strong', 'JJ'), ('>', 'JJ'), ('Position', 'NN'), (':', ':'), ('<', 'NN'), ('/strong', 'IN'), ('>', 'JJ'), Tree('ORGANIZATION', [('Administrative', 'JJ')]), ('Assistant\\\\r\\\\n-', 'NNP'), ('<', 'NNP'), ('strong', 'JJ'), ('>', 'NNP'), ('Department', 'NNP'), (':', ':'), ('<', 'NN'), ('/strong', 'IN'), ('>', 'NNP'), ('Administration\\\\r\\\\n\\\\r\\\\n', 'NNP'), ('#', '#'), ('#', '#'), ('Terms', 'NNS'), ('and', 'CC'), ('Conditions', 'NNS'), (':', ':'), ('\\\\r\\\\n-', 'JJ'), ('<', 'NN'), ('strong', 'JJ'), ('>', 'JJ'), ('Responsibilities', 'NNS'), (':', ':'), ('<', 'NN'), ('/strong', 'IN'), ('>', 'JJ'), ('Providing', 'VBG'), ('administrative', 'JJ'), ('support', 'NN'), ('to', 'TO'), ('the', 'DT'), ('team.\\\\r\\\\n-', 'JJ'), ('<', 'NN'), ('strong', 'JJ'), ('>', 'JJ'), ('Compensation', 'NN'), (':', ':'), ('<', 'NN'), ('/strong', 'IN'), ('>', 'JJ'), ('$', '$'), ('65,000', 'CD'), ('per', 'IN'), ('year\\\\r\\\\n-', 'NN'), ('<', 'NN'), ('strong', 'JJ'), ('>', 'JJ'), ('Benefits', 'NNS'), (':', ':'), ('<', 'NN'), ('/strong', 'NNP'), ('>', 'NNP'), ('Health', 'NNP'), ('insurance', 'NN'), (',', ','), ('retirement', 'NN'), ('plan\\\\r\\\\n-', 'JJ'), ('<', 'NNP'), ('strong', 'JJ'), ('>', 'NNP'), ('Work', 'NNP'), ('Hours', 'NNP'), (':', ':'), ('<', 'NN'), ('/strong', 'NNP'), ('>', 'VBZ'), ('40', 'CD'), ('hours', 'NNS'), ('per', 'IN'), ('week\\\\r\\\\n-', 'JJ'), ('<', 'NN'), ('strong', 'JJ'), ('>', 'JJ'), ('Termination', 'NN'), ('Conditions', 'NNS'), (':', ':'), ('<', 'NN'), ('/strong', 'NNP'), ('>', 'VBZ'), ('30', 'CD'), ('days\\\\', 'NN'), (\"'\", 'POS'), ('notice\\\\r\\\\n-', 'JJ'), ('<', 'NN'), ('strong', 'JJ'), ('>', 'JJ'), Tree('ORGANIZATION', [('Confidentiality', 'NNP')]), ('Agreement', 'NNP'), (':', ':'), ('<', 'NN'), ('/strong', 'JJ'), ('>', 'JJ'), ('Yes\\\\r\\\\n-', 'JJ'), ('<', 'NN'), ('strong', 'JJ'), ('>', 'NNP'), ('Intellectual', 'NNP'), ('Property', 'NNP'), ('Rights', 'NNS'), (':', ':'), ('<', 'NN'), ('/strong', 'JJ'), ('>', 'JJ'), ('Company-owned\\\\r\\\\n-', 'NNP'), ('<', 'NNP'), ('strong', 'JJ'), ('>', 'NN'), ('Compliance', 'NN'), ('with', 'IN'), Tree('ORGANIZATION', [('Company', 'NNP')]), ('Policies', 'NNPS'), (':', ':'), ('<', 'NN'), ('/strong', 'IN'), ('>', 'JJ'), Tree('ORGANIZATION', [('Compliance', 'NNP')]), ('required\\\\r\\\\n\\\\r\\\\nThis', 'NN'), ('employment', 'NN'), ('contract', 'NN'), ('is', 'VBZ'), ('entered', 'VBN'), ('into', 'IN'), ('between', 'IN'), Tree('GPE', [('Instagram', 'NNP')]), ('(', '('), ('hereinafter', 'NN'), ('referred', 'VBN'), ('to', 'TO'), ('as', 'IN'), ('``', '``'), ('Employer', 'NNP'), (\"''\", \"''\"), (')', ')'), ('and', 'CC'), Tree('PERSON', [('Ava', 'NNP'), ('Thomas', 'NNP')]), ('(', '('), ('hereinafter', 'NN'), ('referred', 'VBN'), ('to', 'TO'), ('as', 'IN'), ('``', '``'), ('Employee', 'NNP'), (\"''\", \"''\"), (')', ')'), ('on', 'IN'), ('October', 'NNP'), ('1', 'CD'), (',', ','), ('2022.\\\\r\\\\n\\\\r\\\\nThis', 'CD'), ('contract', 'NN'), ('outlines', 'VBZ'), ('the', 'DT'), ('terms', 'NNS'), ('and', 'CC'), ('conditions', 'NNS'), ('of', 'IN'), ('employment', 'NN'), ('for', 'IN'), ('the', 'DT'), Tree('ORGANIZATION', [('Employee', 'NNP')]), ('and', 'CC'), ('is', 'VBZ'), ('effective', 'JJ'), ('as', 'IN'), ('of', 'IN'), ('the', 'DT'), ('start', 'NN'), ('date', 'NN'), ('of', 'IN'), ('October', 'NNP'), ('1', 'CD'), (',', ','), ('2022', 'CD'), ('.', '.')]),\n",
       " Tree('S', [('Both', 'DT'), ('the', 'DT'), Tree('ORGANIZATION', [('Employer', 'NNP')]), ('and', 'CC'), ('Employee', 'NNP'), ('agree', 'VBP'), ('to', 'TO'), ('abide', 'VB'), ('by', 'IN'), ('the', 'DT'), ('terms', 'NNS'), ('set', 'VBD'), ('forth', 'NN'), ('in', 'IN'), ('this', 'DT'), ('contract.\\\\r\\\\n', 'NN'), (\"'\", \"''\"), ('<', 'JJ'), ('/p', 'NNP'), ('>', 'NN')])]"
      ]
     },
     "execution_count": 14,
     "metadata": {},
     "output_type": "execute_result"
    }
   ],
   "source": [
    "named_entities"
   ]
  },
  {
   "cell_type": "code",
   "execution_count": 15,
   "metadata": {},
   "outputs": [
    {
     "name": "stdout",
     "output_type": "stream",
     "text": [
      "Entity: Administrative, Type: ORGANIZATION\n",
      "Entity: Confidentiality, Type: ORGANIZATION\n",
      "Entity: Company, Type: ORGANIZATION\n",
      "Entity: Compliance, Type: ORGANIZATION\n",
      "Entity: Instagram, Type: GPE\n",
      "Entity: Ava Thomas, Type: PERSON\n",
      "Entity: Employee, Type: ORGANIZATION\n",
      "Entity: Employer, Type: ORGANIZATION\n"
     ]
    }
   ],
   "source": [
    "for ne_tree in named_entities:\n",
    "    for subtree in ne_tree:\n",
    "        if type(subtree) == nltk.Tree:\n",
    "            entity = \" \".join([token for token, pos in subtree.leaves()])\n",
    "            entity_type = subtree.label()\n",
    "            print(f\"Entity: {entity}, Type: {entity_type}\")"
   ]
  },
  {
   "cell_type": "code",
   "execution_count": 16,
   "metadata": {},
   "outputs": [],
   "source": [
    "import spacy\n",
    "from spacy import displacy\n",
    "from collections import Counter\n",
    "import en_core_web_sm\n",
    "nlp = en_core_web_sm.load()"
   ]
  },
  {
   "cell_type": "code",
   "execution_count": 17,
   "metadata": {},
   "outputs": [
    {
     "name": "stdout",
     "output_type": "stream",
     "text": [
      "[('#', 'CARDINAL'),\n",
      " ('##', 'MONEY'),\n",
      " ('## Terms', 'MONEY'),\n",
      " ('65,000', 'MONEY'),\n",
      " ('Hours:</strong', 'GPE'),\n",
      " ('40 hours', 'TIME'),\n",
      " ('30', 'CARDINAL'),\n",
      " ('Intellectual Property', 'PERSON'),\n",
      " ('Ava Thomas', 'PERSON'),\n",
      " ('October 1', 'DATE'),\n",
      " ('Employee', 'PRODUCT'),\n",
      " ('the start date of', 'DATE'),\n",
      " ('October 1, 2022', 'DATE'),\n",
      " ('Employer', 'LOC')]\n"
     ]
    }
   ],
   "source": [
    "from pprint import pprint\n",
    "doc = nlp(text)\n",
    "pprint([(X.text, X.label_) for X in doc.ents])"
   ]
  },
  {
   "cell_type": "code",
   "execution_count": 18,
   "metadata": {},
   "outputs": [],
   "source": [
    "def entity_recognition(location):\n",
    "    with open(location, 'rb') as f:\n",
    "        md_text = f.read()\n",
    "    text = markdown.markdown(md_text)\n",
    "    doc = nlp(text)\n",
    "    return [(X.text, X.label_) for X in doc.ents]"
   ]
  },
  {
   "cell_type": "code",
   "execution_count": 20,
   "metadata": {},
   "outputs": [
    {
     "data": {
      "text/plain": [
       "[('### Company Name', 'MONEY'),\n",
       " ('### Category', 'MONEY'),\n",
       " ('### Document', 'MONEY'),\n",
       " ('####', 'MONEY'),\n",
       " ('Target Audience:</strong>\\\\r\\\\n- Small', 'ORG'),\n",
       " ('campaigns.\\\\r\\\\n- Drive', 'FAC'),\n",
       " ('20,000', 'MONEY'),\n",
       " ('Budget', 'ORG'),\n",
       " ('3-month', 'DATE'),\n",
       " ('Monthly', 'DATE'),\n",
       " ('Monthly', 'DATE'),\n",
       " ('####', 'MONEY'),\n",
       " ('Identification', 'ORG'),\n",
       " ('Target Audience:</strong>\\\\r\\\\n- Fashion', 'ORG'),\n",
       " ('partnerships.\\\\r\\\\n- Brands', 'ORG'),\n",
       " ('metrics.\\\\r\\\\n- Co-creation', 'PERSON'),\n",
       " ('15,000', 'MONEY'),\n",
       " ('Influencer', 'PERSON'),\n",
       " ('2-month', 'DATE'),\n",
       " ('engagement.\\\\r\\\\n\\\\r\\\\n', 'PERSON'),\n",
       " ('####', 'MONEY'),\n",
       " ('Strategies:</strong>\\\\r\\\\n- Tailored', 'ORG'),\n",
       " ('insights.\\\\r\\\\n- Implementing', 'PERSON')]"
      ]
     },
     "execution_count": 20,
     "metadata": {},
     "output_type": "execute_result"
    }
   ],
   "source": [
    "\n",
    "entity_recognition('../data/business_docs/Marketing Plan.md')"
   ]
  },
  {
   "cell_type": "code",
   "execution_count": 21,
   "metadata": {},
   "outputs": [
    {
     "data": {
      "text/plain": [
       "[('### Company Name', 'MONEY'),\n",
       " ('### Category', 'MONEY'),\n",
       " ('####', 'MONEY'),\n",
       " ('Social Media Marketing Services</strong>\\\\r\\\\n\\\\r\\\\n', 'ORG'),\n",
       " ('Problem Statement:</strong>\\\\r\\\\nMany', 'PERSON'),\n",
       " ('####', 'MONEY'),\n",
       " ('Instagram', 'ORG'),\n",
       " ('engagement.\\\\r\\\\n\\\\r\\\\n', 'PERSON'),\n",
       " ('####', 'MONEY'),\n",
       " ('3', 'CARDINAL'),\n",
       " ('Instagram', 'ORG'),\n",
       " ('engagement.\\\\r\\\\n\\\\r\\\\n', 'PERSON')]"
      ]
     },
     "execution_count": 21,
     "metadata": {},
     "output_type": "execute_result"
    }
   ],
   "source": [
    "entity_recognition('../data/business_docs/Business Proposal.md')"
   ]
  },
  {
   "cell_type": "code",
   "execution_count": 22,
   "metadata": {},
   "outputs": [
    {
     "data": {
      "text/plain": [
       "[('Board of Directors\\\\r\\\\n\\\\r\\\\nThe Board of Directors', 'ORG'),\n",
       " ('Instagram.\\\\r\\\\n\\\\r\\\\n## Board Composition\\\\r\\\\n\\\\r\\\\nThe Board of Directors of Instagram',\n",
       "  'ORG'),\n",
       " ('members:\\\\r\\\\n\\\\r\\\\n1', 'LOC'),\n",
       " ('John Smith</strong>', 'PERSON'),\n",
       " ('Board', 'ORG'),\n",
       " ('John Smith', 'PERSON'),\n",
       " ('20 years', 'DATE'),\n",
       " ('Board', 'ORG'),\n",
       " ('2015', 'DATE'),\n",
       " ('Instagram', 'ORG'),\n",
       " ('Sarah Johnson</strong', 'PERSON'),\n",
       " ('Sarah Johnson', 'PERSON'),\n",
       " ('Sarah', 'PERSON'),\n",
       " ('Instagram', 'GPE'),\n",
       " ('David Lee</strong', 'PERSON'),\n",
       " ('David Lee', 'PERSON'),\n",
       " ('David', 'PERSON'),\n",
       " ('Emily Davis', 'PERSON'),\n",
       " ('Instagram', 'ORG'),\n",
       " ('## Contributions', 'MONEY'),\n",
       " ('Instagram', 'ORG'),\n",
       " ('the years', 'DATE'),\n",
       " ('Guiding Instagram', 'ORG'),\n",
       " ('Stories', 'ORG'),\n",
       " ('Reels', 'PRODUCT'),\n",
       " ('Instagram', 'ORG'),\n",
       " ('over 1 billion', 'MONEY'),\n",
       " ('monthly', 'DATE'),\n",
       " ('globally.\\\\r\\\\n\\\\r\\\\nThe Board of Directors', 'ORG'),\n",
       " ('Instagram', 'ORG'),\n",
       " ('## Contact', 'MONEY'),\n",
       " ('the Board of Directors', 'ORG')]"
      ]
     },
     "execution_count": 22,
     "metadata": {},
     "output_type": "execute_result"
    }
   ],
   "source": [
    "entity_recognition('../data/company_bylaws/Board of Directors.md')"
   ]
  },
  {
   "cell_type": "code",
   "execution_count": 23,
   "metadata": {},
   "outputs": [
    {
     "data": {
      "text/plain": [
       "32"
      ]
     },
     "execution_count": 23,
     "metadata": {},
     "output_type": "execute_result"
    }
   ],
   "source": [
    "with open('../data/company_bylaws/Board of Directors.md', 'rb') as f:\n",
    "        md_text = f.read()\n",
    "text = markdown.markdown(md_text)\n",
    "article = nlp(text)\n",
    "len(article.ents)"
   ]
  },
  {
   "cell_type": "code",
   "execution_count": 24,
   "metadata": {},
   "outputs": [
    {
     "data": {
      "text/plain": [
       "Counter({'ORG': 13,\n",
       "         'PERSON': 9,\n",
       "         'DATE': 4,\n",
       "         'MONEY': 3,\n",
       "         'LOC': 1,\n",
       "         'GPE': 1,\n",
       "         'PRODUCT': 1})"
      ]
     },
     "execution_count": 24,
     "metadata": {},
     "output_type": "execute_result"
    }
   ],
   "source": [
    "labels = [x.label_ for x in article.ents]\n",
    "Counter(labels)"
   ]
  },
  {
   "cell_type": "code",
   "execution_count": 25,
   "metadata": {},
   "outputs": [
    {
     "data": {
      "text/plain": [
       "[('Instagram', 6),\n",
       " ('Board', 2),\n",
       " ('Board of Directors\\\\r\\\\n\\\\r\\\\nThe Board of Directors', 1)]"
      ]
     },
     "execution_count": 25,
     "metadata": {},
     "output_type": "execute_result"
    }
   ],
   "source": [
    "items = [x.text for x in article.ents]\n",
    "Counter(items).most_common(3)"
   ]
  },
  {
   "cell_type": "code",
   "execution_count": 28,
   "metadata": {},
   "outputs": [
    {
     "name": "stdout",
     "output_type": "stream",
     "text": [
      "Sarah Johnson</strong> - CEO, Instagram<br>\\r\\n   Sarah Johnson is the Chief Executive Officer of Instagram, responsible for driving the company's overall growth and success.\n"
     ]
    }
   ],
   "source": [
    "sentences = [x for x in article.sents]\n",
    "print(sentences[6])"
   ]
  },
  {
   "cell_type": "code",
   "execution_count": 29,
   "metadata": {},
   "outputs": [
    {
     "data": {
      "text/html": [
       "<span class=\"tex2jax_ignore\"><div class=\"entities\" style=\"line-height: 2.5; direction: ltr\">\n",
       "<mark class=\"entity\" style=\"background: #aa9cfc; padding: 0.45em 0.6em; margin: 0 0.25em; line-height: 1; border-radius: 0.35em;\">\n",
       "    Sarah Johnson&lt;/strong\n",
       "    <span style=\"font-size: 0.8em; font-weight: bold; line-height: 1; border-radius: 0.35em; vertical-align: middle; margin-left: 0.5rem\">PERSON</span>\n",
       "</mark>\n",
       "&gt; - CEO, Instagram&lt;br&gt;\\r\\n   \n",
       "<mark class=\"entity\" style=\"background: #aa9cfc; padding: 0.45em 0.6em; margin: 0 0.25em; line-height: 1; border-radius: 0.35em;\">\n",
       "    Sarah Johnson\n",
       "    <span style=\"font-size: 0.8em; font-weight: bold; line-height: 1; border-radius: 0.35em; vertical-align: middle; margin-left: 0.5rem\">PERSON</span>\n",
       "</mark>\n",
       " is the Chief Executive Officer of Instagram, responsible for driving the company's overall growth and success.</div></span>"
      ],
      "text/plain": [
       "<IPython.core.display.HTML object>"
      ]
     },
     "metadata": {},
     "output_type": "display_data"
    }
   ],
   "source": [
    "displacy.render(nlp(str(sentences[6])), jupyter=True, style='ent')"
   ]
  },
  {
   "cell_type": "code",
   "execution_count": 30,
   "metadata": {},
   "outputs": [],
   "source": [
    "documents = ['../data/business_docs/Marketing Plan.md',\n",
    "            '../data/company_bylaws/Board of Directors.md',\n",
    "            '../data/company_bylaws/About Instagram.md', \n",
    "            '../data/company_bylaws/Shareholders.md',\n",
    "            '../data/financial_docs/Income Statement.md',\n",
    "            '../data/hr_docs_filled/employee_contracts/employee_contract_Emily Brown.md',\n",
    "            '../data/hr_docs_filled/employee_contracts/employee_contract_Liam Kim.md',\n",
    "            '../data/hr_docs_filled/employee_esops/employee_esop_Mia Hernandez.md',\n",
    "            '../data/hr_docs_filled/employee_payslips/employee_payslip_Michael Johnson.md',\n",
    "            '../data/hr_docs_filled/Employee Handbook.md']"
   ]
  },
  {
   "cell_type": "code",
   "execution_count": 31,
   "metadata": {},
   "outputs": [],
   "source": [
    "combined_text = ''\n",
    "for doc in documents:\n",
    "    with open(doc, 'rb') as f:\n",
    "        md_text = f.read()\n",
    "    text = markdown.markdown(md_text)\n",
    "    combined_text += text"
   ]
  },
  {
   "cell_type": "code",
   "execution_count": 32,
   "metadata": {},
   "outputs": [
    {
     "data": {
      "text/plain": [
       "'<p>b\\'\\\\r\\\\n### Company Name: Instagram\\\\r\\\\n### Category of Document: Business Document\\\\r\\\\n### Document Title: Marketing Plan\\\\r\\\\n\\\\r\\\\n---\\\\r\\\\n\\\\r\\\\n#### <strong>Marketing Plan for Social Media Marketing Services</strong>\\\\r\\\\n\\\\r\\\\n<strong>Market Analysis:</strong>\\\\r\\\\n- Analysis of current social media marketing trends and competitive landscape.\\\\r\\\\n- Identification of key target industries and potential clients for social media marketing services.\\\\r\\\\n\\\\r\\\\n<strong>Target Audience:</strong>\\\\r\\\\n- Small businesses, startups, and e-commerce ventures looking to enhance their online presence.\\\\r\\\\n- Brands seeking to engage with a younger demographic through social media platforms.\\\\r\\\\n\\\\r\\\\n<strong>Marketing Objectives:</strong>\\\\r\\\\n- Increase brand awareness and reach through targeted social media campaigns.\\\\r\\\\n- Drive customer engagement and conversions for client businesses.\\\\r\\\\n\\\\r\\\\n<strong>Strategies:</strong>\\\\r\\\\n- Develop personalized social media marketing strategies based on client goals and industry trends.\\\\r\\\\n- Utilize influencer collaborations, interactive content, and data-driven insights for optimized marketing campaigns.\\\\r\\\\n\\\\r\\\\n<strong>Tactics:</strong>\\\\r\\\\n- Content creation and curation for social media platforms.\\\\r\\\\n- Paid advertising campaigns targeting specific audience segments.\\\\r\\\\n- Regular performance tracking and analytics to measure campaign effectiveness.\\\\r\\\\n\\\\r\\\\n<strong>Budget:</strong>\\\\r\\\\n- Initial budget allocation of $20,000 for social media marketing campaigns and ad spend.\\\\r\\\\n- Budget may be adjusted based on campaign performance and client requirements.\\\\r\\\\n\\\\r\\\\n<strong>Timeline:</strong>\\\\r\\\\n- Campaign implementation and monitoring over a 3-month period.\\\\r\\\\n- Monthly reporting and analysis to track performance metrics and adjust strategies.\\\\r\\\\n\\\\r\\\\n<strong>Performance Metrics:</strong>\\\\r\\\\n- Key performance indicators include website traffic, engagement rates, lead generation, and conversion metrics.\\\\r\\\\n- Monthly reports to be generated for clients to review campaign progress and ROI.\\\\r\\\\n\\\\r\\\\n---\\\\r\\\\n\\\\r\\\\n#### <strong>Marketing Plan for Influencer Collaboration Services</strong>\\\\r\\\\n\\\\r\\\\n<strong>Market Analysis:</strong>\\\\r\\\\n- Evaluation of influencer marketing trends and industry benchmarks.\\\\r\\\\n- Identification of relevant influencers in target industries for potential collaborations.\\\\r\\\\n\\\\r\\\\n<strong>Target Audience:</strong>\\\\r\\\\n- Fashion brands, lifestyle products, and beauty companies looking to leverage influencer partnerships.\\\\r\\\\n- Brands aiming to tap into niche markets and increase brand advocacy through influencer endorsements.\\\\r\\\\n\\\\r\\\\n<strong>Marketing Objectives:</strong>\\\\r\\\\n- Establish authentic brand partnerships with influencers to amplify brand reach and credibility.\\\\r\\\\n- Drive user engagement and brand affinity through influencer-generated content.\\\\r\\\\n\\\\r\\\\n<strong>Strategies:</strong>\\\\r\\\\n- Strategic selection of influencers based on brand fit, audience alignment, and engagement metrics.\\\\r\\\\n- Co-creation of compelling content with influencers to resonate with target audiences.\\\\r\\\\n\\\\r\\\\n<strong>Tactics:</strong>\\\\r\\\\n- Influencer outreach and negotiations for collaboration agreements.\\\\r\\\\n- Performance monitoring and analysis of influencer campaigns for optimization.\\\\r\\\\n- Leveraging influencer content across multiple platforms for extended reach.\\\\r\\\\n\\\\r\\\\n<strong>Budget:</strong>\\\\r\\\\n- Allocated budget of $15,000 for influencer collaborations and content creation.\\\\r\\\\n- Budget flexibility to accommodate high-profile influencers and extended campaign durations.\\\\r\\\\n\\\\r\\\\n<strong>Timeline:</strong>\\\\r\\\\n- Influencer campaign planning and execution over a 2-month period.\\\\r\\\\n- Real-time monitoring of influencer performance and content engagement.\\\\r\\\\n\\\\r\\\\n<strong>Performance Metrics:</strong>\\\\r\\\\n- Metrics include influencer reach, engagement rates, content virality, and brand sentiment.\\\\r\\\\n- Data-driven insights to measure the impact of influencer collaborations on brand visibility and customer perception.\\\\r\\\\n\\\\r\\\\n---\\\\r\\\\n\\\\r\\\\n#### <strong>Marketing Plan for Content Creation and Curation Services</strong>\\\\r\\\\n\\\\r\\\\n<strong>Market Analysis:</strong>\\\\r\\\\n- Assessment of content marketing trends and visual storytelling strategies.\\\\r\\\\n- Understanding of audience preferences and content consumption habits on social media platforms.\\\\r\\\\n\\\\r\\\\n<strong>Target Audience:</strong>\\\\r\\\\n- Media companies, creative agencies, and lifestyle brands seeking to enhance their content quality and engagement.\\\\r\\\\n- Businesses looking to establish a consistent and visually appealing brand identity through curated content.\\\\r\\\\n\\\\r\\\\n<strong>Marketing Objectives:</strong>\\\\r\\\\n- Elevate brand storytelling through visually captivating and engaging content formats.\\\\r\\\\n- Increase audience interaction and user-generated content through immersive brand experiences.\\\\r\\\\n\\\\r\\\\n<strong>Strategies:</strong>\\\\r\\\\n- Tailored content planning and production based on brand guidelines and audience insights.\\\\r\\\\n- Implementing user-generated content campaigns and interactive storytelling elements for enhanced audience engagement\\'</p><p>b\"# Board of Directors\\\\r\\\\n\\\\r\\\\nThe Board of Directors of Instagram consists of highly experienced professionals who provide strategic guidance and oversight to ensure the success and growth of the company. The board members bring diverse expertise and perspectives to the table, contributing to the overall vision and direction of Instagram.\\\\r\\\\n\\\\r\\\\n## Board Composition\\\\r\\\\n\\\\r\\\\nThe Board of Directors of Instagram is composed of the following members:\\\\r\\\\n\\\\r\\\\n1. <strong>John Smith</strong> - Chairman of the Board<br>\\\\r\\\\n   John Smith is an accomplished business leader with over 20 years of experience in the technology industry. He has served as the Chairman of the Board since 2015 and has been instrumental in shaping Instagram\\'s strategic vision.\\\\r\\\\n\\\\r\\\\n2. <strong>Sarah Johnson</strong> - CEO, Instagram<br>\\\\r\\\\n   Sarah Johnson is the Chief Executive Officer of Instagram, responsible for driving the company\\'s overall growth and success. With her strong leadership skills and deep understanding of social media platforms, Sarah has played a pivotal role in Instagram\\'s evolution.\\\\r\\\\n\\\\r\\\\n3. <strong>David Lee</strong> - Chief Financial Officer<br>\\\\r\\\\n   David Lee brings extensive financial expertise to the board. As the CFO of Instagram, he is responsible for financial planning, analysis, and strategic investments. David\\'s financial acumen has been instrumental in ensuring the company\\'s financial stability and sustainable growth.\\\\r\\\\n\\\\r\\\\n4. <strong>Emily Davis</strong> - Chief Marketing Officer<br>\\\\r\\\\n   Emily Davis is the Chief Marketing Officer at Instagram, overseeing all marketing and branding initiatives. With her innovative marketing strategies and deep understanding of consumer behavior, Emily has played a key role in expanding Instagram\\'s user base and increasing brand awareness.\\\\r\\\\n\\\\r\\\\n## Contributions and Achievements\\\\r\\\\n\\\\r\\\\nThe Board of Directors has played a crucial role in Instagram\\'s success and achievements over the years. Some of their notable contributions include:\\\\r\\\\n\\\\r\\\\n- Guiding Instagram through its acquisition by Facebook and ensuring the preservation of its unique identity and features.\\\\r\\\\n- Providing strategic guidance in the development and introduction of new features such as Stories, IGTV, and Reels, which have revolutionized content sharing and engagement on the platform.\\\\r\\\\n- Supporting the launch of various initiatives to foster a safe and inclusive community, such as proactive content moderation practices and the promotion of positive online behavior.\\\\r\\\\n- Overseeing the expansion of Instagram\\'s user base to over 1 billion monthly active users worldwide, making it one of the most popular social media platforms globally.\\\\r\\\\n\\\\r\\\\nThe Board of Directors remains committed to driving Instagram\\'s growth, fostering innovation, and maintaining a vibrant and inclusive community for users worldwide.\\\\r\\\\n\\\\r\\\\n## Contact Information\\\\r\\\\n\\\\r\\\\nFor any inquiries or feedback regarding the Board of Directors, please contact us:\\\\r\\\\n\\\\r\\\\nEmail: boardofdirectors@instagram.com\\\\r\\\\nPhone: +1-123-456-7890\"</p><p>b\"# About Instagram\\\\r\\\\n\\\\r\\\\n<strong>Overview</strong>\\\\r\\\\n\\\\r\\\\nInstagram is a popular social media platform that allows users to share photos, videos, and stories with their followers. Launched in 2010, Instagram quickly gained widespread popularity due to its user-friendly interface and focus on visual content. The platform was acquired by Facebook in 2012 but has since maintained its own distinct identity and features. Instagram is more than just a social media platform\\\\x97it\\'s a vibrant community where users can connect, create, and be inspired.\\\\r\\\\n\\\\r\\\\n<strong>Mission and Values</strong>\\\\r\\\\n\\\\r\\\\nInstagram\\'s mission is to provide a platform for individuals and businesses to express themselves, connect with others, and share their stories with the world. We believe in the power of visual storytelling and strive to foster an inclusive and supportive community that encourages creativity, authenticity, and positivity. Our core values include:\\\\r\\\\n\\\\r\\\\n- Creativity: We celebrate the power of creative expression and provide tools and features that enable users to showcase their unique perspectives.\\\\r\\\\n- Connection: We believe in the ability of social media to connect people from all walks of life, fostering meaningful relationships and inspiring collaboration.\\\\r\\\\n- Authenticity: We promote authenticity and transparency, encouraging users to be their true selves and share their genuine experiences.\\\\r\\\\n- Innovation: We continuously innovate and evolve our platform to meet the changing needs and preferences of our diverse user base.\\\\r\\\\n\\\\r\\\\n<strong>History</strong>\\\\r\\\\n\\\\r\\\\nInstagram was founded by Mike Krieger and Kevin Systrom in 2010. The platform started as a simple photo-sharing app but quickly gained traction among users, attracting millions of users within a short span of time. In 2012, Instagram caught the attention of Facebook, leading to its acquisition. Since then, Instagram has grown exponentially, introducing new features like Stories, Direct messaging, Explore, IGTV, and Reels to enhance the user experience and expand the possibilities of visual storytelling.\\\\r\\\\n\\\\r\\\\n<strong>Key Personnel</strong>\\\\r\\\\n\\\\r\\\\n- Mike Krieger - Co-founder\\\\r\\\\n- Kevin Systrom - Co-founder\\\\r\\\\n\\\\r\\\\n<strong>Approach to Business</strong>\\\\r\\\\n\\\\r\\\\nAt Instagram, we believe in providing a seamless and user-friendly experience through our platform. We prioritize user feedback and continuously iterate our features and functionalities to ensure they meet the evolving needs and preferences of our community. We also strive to maintain a safe and inclusive environment by implementing strict content policies and proactive moderation practices.\\\\r\\\\n\\\\r\\\\n<strong>Customer Focus</strong>\\\\r\\\\n\\\\r\\\\nOur users are at the heart of everything we do. We are committed to listening to their feedback, addressing their concerns, and implementing features that enhance their overall experience on Instagram. We believe in fostering a sense of belonging and empowerment by providing a platform that allows every individual to express themselves and connect with others.\\\\r\\\\n\\\\r\\\\n<strong>Achievements</strong>\\\\r\\\\n\\\\r\\\\nThroughout our journey, Instagram has achieved significant milestones and contributed to the digital landscape in various ways. Some of our notable achievements include:\\\\r\\\\n\\\\r\\\\n- Surpassing 1 billion monthly active users worldwide\\\\r\\\\n- Introducing features like Stories, IGTV, and Reels, which have revolutionized content sharing and consumption\\\\r\\\\n- Facilitating collaborations between creators, businesses, and influencers\\\\r\\\\n- Supporting numerous charitable initiatives and advocacy campaigns\\\\r\\\\n\\\\r\\\\n<strong>Community Involvement</strong>\\\\r\\\\n\\\\r\\\\nWe take pride in the vibrant community of creators, artists, influencers, and individuals who make Instagram a dynamic and inspiring platform. We actively support and encourage community engagement, whether through amplifying important causes, showcasing emerging talents, or facilitating connections between users with shared interests.\\\\r\\\\n\\\\r\\\\n<strong>Contact Information</strong>\\\\r\\\\n\\\\r\\\\nFor any inquiries or feedback, please feel free to reach out to us:\\\\r\\\\n\\\\r\\\\nEmail: info@instagram.com\\\\r\\\\nPhone: +1-123-456-7890\\\\r\\\\n\\\\r\\\\nJoin the Instagram community today and start sharing your story with the world!\\\\r\\\\n\"</p><p>b\"# Shareholders\\\\r\\\\n\\\\r\\\\nThis page provides information about the shareholders of Instagram. We believe in transparency and want to establish trust with our community by sharing details about our ownership structure and the individuals or entities that hold shares in our company.\\\\r\\\\n\\\\r\\\\n## Ownership Structure\\\\r\\\\n\\\\r\\\\nInstagram is a private company and is currently wholly owned by Facebook Inc. Since its acquisition by Facebook in 2012, Instagram has operated as a separate entity but benefits from the resources and support of its parent company.\\\\r\\\\n\\\\r\\\\n## Major Shareholders\\\\r\\\\n\\\\r\\\\nThe major shareholders of Instagram are individuals and entities who have a significant ownership stake in the company. Their contributions and support have been instrumental in the growth and success of the platform. The following are some of our major shareholders:\\\\r\\\\n\\\\r\\\\n1. <strong>Facebook Inc.</strong> - As the parent company, Facebook Inc. holds 100% of the shares of Instagram. Facebook Inc. is a global technology company with a diverse portfolio of platforms and services.\\\\r\\\\n\\\\r\\\\n2. <strong>Sarah Johnson</strong> - Sarah Johnson, the CEO of Instagram, holds a significant stake in the company. Her leadership and vision have been invaluable in shaping Instagram\\'s direction and growth.\\\\r\\\\n\\\\r\\\\n3. <strong>John Smith</strong> - John Smith, the Chairman of the Board of Instagram, is also a major shareholder. With his extensive experience in the technology industry, he has contributed to the strategic guidance and success of Instagram.\\\\r\\\\n\\\\r\\\\n4. <strong>David Lee</strong> - David Lee, the Chief Financial Officer of Instagram, holds a significant share in the company. His financial expertise has played a vital role in ensuring the financial stability and growth of Instagram.\\\\r\\\\n\\\\r\\\\n## Shareholdings\\\\r\\\\n\\\\r\\\\nThe exact shareholdings of individual shareholders are confidential and not publicly disclosed. Instagram\\'s ownership structure is governed by the agreements and regulations established during its acquisition by Facebook Inc.\\\\r\\\\n\\\\r\\\\nPlease note that the information provided above is for informational purposes only and is subject to change.\\\\r\\\\n\\\\r\\\\nFor any inquiries or further information about our shareholders, please feel free to contact us.\\\\r\\\\n\\\\r\\\\nEmail: shareholders@instagram.com\\\\r\\\\nPhone: +1-123-456-7890\"</p><p>b\\'## Income Statement\\\\r\\\\n\\\\r\\\\n<strong>Company Name:</strong> XYZ Corporation\\\\r\\\\n\\\\r\\\\n<strong>For the Year Ended:</strong> December 31, 20XX\\\\r\\\\n\\\\r\\\\n| Category            | Amount      |\\\\r\\\\n|---------------------|-------------|\\\\r\\\\n| Revenue             | $500,000    |\\\\r\\\\n| Cost of Goods Sold  | $200,000    |\\\\r\\\\n| Gross Profit        | $300,000    |\\\\r\\\\n| Operating Expenses  | $150,000    |\\\\r\\\\n| Operating Income    | $150,000    |\\\\r\\\\n| Non-Operating Items | $10,000     |\\\\r\\\\n| Income Before Taxes | $160,000    |\\\\r\\\\n| Income Taxes        | $40,000     |\\\\r\\\\n| Net Income          | $120,000    |\\'</p><p>b\\'\\\\r\\\\n# Employment Contract\\\\r\\\\n\\\\r\\\\n## Employee Information:\\\\r\\\\n- <strong>Employee Name:</strong> Emily Brown\\\\r\\\\n- <strong>Position:</strong> UX Designer\\\\r\\\\n- <strong>Department:</strong> Design\\\\r\\\\n\\\\r\\\\n## Terms and Conditions:\\\\r\\\\n- <strong>Responsibilities:</strong> Designing user interfaces and experiences.\\\\r\\\\n- <strong>Compensation:</strong> $90,000 per year\\\\r\\\\n- <strong>Benefits:</strong> Health insurance, retirement plan\\\\r\\\\n- <strong>Work Hours:</strong> 40 hours per week\\\\r\\\\n- <strong>Termination Conditions:</strong> 30 days\\\\\\' notice\\\\r\\\\n- <strong>Confidentiality Agreement:</strong> Yes\\\\r\\\\n- <strong>Intellectual Property Rights:</strong> Company-owned\\\\r\\\\n- <strong>Compliance with Company Policies:</strong> Compliance required\\\\r\\\\n\\\\r\\\\nThis employment contract is entered into between Instagram (hereinafter referred to as \"Employer\") and Emily Brown (hereinafter referred to as \"Employee\") on April 1, 2022.\\\\r\\\\n\\\\r\\\\nThis contract outlines the terms and conditions of employment for the Employee and is effective as of the start date of April 1, 2022. Both the Employer and Employee agree to abide by the terms set forth in this contract.\\\\r\\\\n\\'</p><p>b\\'\\\\r\\\\n# Employment Contract\\\\r\\\\n\\\\r\\\\n## Employee Information:\\\\r\\\\n- <strong>Employee Name:</strong> Liam Kim\\\\r\\\\n- <strong>Position:</strong> Data Engineer\\\\r\\\\n- <strong>Department:</strong> Data Engineering\\\\r\\\\n\\\\r\\\\n## Terms and Conditions:\\\\r\\\\n- <strong>Responsibilities:</strong> Designing and maintaining data infrastructure.\\\\r\\\\n- <strong>Compensation:</strong> $105,000 per year\\\\r\\\\n- <strong>Benefits:</strong> Health insurance, retirement plan\\\\r\\\\n- <strong>Work Hours:</strong> 40 hours per week\\\\r\\\\n- <strong>Termination Conditions:</strong> 30 days\\\\\\' notice\\\\r\\\\n- <strong>Confidentiality Agreement:</strong> Yes\\\\r\\\\n- <strong>Intellectual Property Rights:</strong> Company-owned\\\\r\\\\n- <strong>Compliance with Company Policies:</strong> Compliance required\\\\r\\\\n\\\\r\\\\nThis employment contract is entered into between Instagram (hereinafter referred to as \"Employer\") and Liam Kim (hereinafter referred to as \"Employee\") on August 1, 2023.\\\\r\\\\n\\\\r\\\\nThis contract outlines the terms and conditions of employment for the Employee and is effective as of the start date of August 1, 2023. Both the Employer and Employee agree to abide by the terms set forth in this contract.\\\\r\\\\n\\'</p><p>b\\'\\\\r\\\\n# Employee Stock Ownership Plan (ESOP)\\\\r\\\\n\\\\r\\\\n## Employee Information:\\\\r\\\\n- <strong>Employee Name:</strong> Mia Hernandez\\\\r\\\\n- <strong>Position:</strong> Public Relations Manager\\\\r\\\\n- <strong>Department:</strong> Public Relations\\\\r\\\\n\\\\r\\\\n## ESOP Details:\\\\r\\\\n- <strong>Allocation of Shares:</strong> 110 shares\\\\r\\\\n- <strong>Vesting Schedule:</strong> 4-year vesting schedule\\\\r\\\\n- <strong>Eligibility Criteria:</strong> Full-time employment\\\\r\\\\n- <strong>Valuation Methods:</strong> Fair market value\\\\r\\\\n- <strong>Rights and Responsibilities:</strong> Voting rights, dividend entitlement\\\\r\\\\n\\\\r\\\\nThis Employee Stock Ownership Plan (ESOP) is entered into between Instagram (hereinafter referred to as \"Employer\") and Mia Hernandez (hereinafter referred to as \"Employee\") on January 1, 2023.\\\\r\\\\n\\\\r\\\\nThe ESOP details the allocation of shares, vesting schedule, eligibility criteria, valuation methods, and the rights and responsibilities of participating employees. This plan aims to provide employees with an ownership interest in the company, aligning their interests with that of the company.\\\\r\\\\n\\'</p><p>b\\'\\\\r\\\\n# Employee Payslip\\\\r\\\\n\\\\r\\\\n## Employee Information:\\\\r\\\\n- <strong>Employee Name:</strong> Michael Johnson\\\\r\\\\n- <strong>Employee ID:</strong> 12347\\\\r\\\\n- <strong>Position:</strong> Product Manager\\\\r\\\\n- <strong>Department:</strong> Product Management\\\\r\\\\n\\\\r\\\\n## Pay Period:\\\\r\\\\n- <strong>Start Date:</strong> March 1, 2022\\\\r\\\\n- <strong>End Date:</strong> March 15, 2022\\\\r\\\\n\\\\r\\\\n## Earnings:\\\\r\\\\n- <strong>Basic Salary:</strong> $5,000.00\\\\r\\\\n- <strong>Allowances:</strong> $600.00\\\\r\\\\n- <strong>Bonuses:</strong> $1,200.00\\\\r\\\\n- <strong>Total Earnings:</strong> $6,800.00\\\\r\\\\n\\\\r\\\\n## Deductions:\\\\r\\\\n- <strong>Taxes:</strong> $1,200.00\\\\r\\\\n- <strong>Insurance Contributions:</strong> $240.00\\\\r\\\\n- <strong>Other Deductions:</strong> $120.00\\\\r\\\\n- <strong>Total Deductions:</strong> $1,560.00\\\\r\\\\n\\\\r\\\\n## Net Pay:\\\\r\\\\n- <strong>Net Pay:</strong> $5,240.00\\\\r\\\\n\\\\r\\\\nThis Employee Payslip is issued to Michael Johnson for the pay period from March 1, 2022 to March 15, 2022. It provides a detailed breakdown of earnings, deductions, and the net pay for the specified period.\\\\r\\\\n\\'</p><p>b\"# Employee Handbook\\\\r\\\\n\\\\r\\\\n## Company Name: Instagram\\\\r\\\\n\\\\r\\\\n### Table of Contents\\\\r\\\\n1. Introduction\\\\r\\\\n2. Mission and Values\\\\r\\\\n3. Code of Conduct\\\\r\\\\n4. Anti-Discrimination and Harassment Policies\\\\r\\\\n5. Leave and Attendance Policies\\\\r\\\\n6. Performance Management Processes\\\\r\\\\n7. Employee Benefits\\\\r\\\\n8. Contact Information\\\\r\\\\n\\\\r\\\\n## 1. Introduction\\\\r\\\\nWelcome to Instagram! This Employee Handbook is designed to provide you with important information about our company policies, procedures, benefits, and expectations. Please take the time to read through this handbook carefully and refer back to it whenever you have questions about your rights and responsibilities as an employee.\\\\r\\\\n\\\\r\\\\n## 2. Mission and Values\\\\r\\\\nAt Instagram, our mission is to provide a platform where users can connect, create, and be inspired. We value creativity, diversity, and inclusion in everything we do. It is important that all employees align with our mission and values to create a positive and inclusive work environment.\\\\r\\\\n\\\\r\\\\n## 3. Code of Conduct\\\\r\\\\nEmployees are expected to conduct themselves in a professional manner at all times. This includes treating all colleagues and customers with respect, maintaining confidentiality of company information, and following all company policies and procedures.\\\\r\\\\n\\\\r\\\\n## 4. Anti-Discrimination and Harassment Policies\\\\r\\\\nInstagram is committed to providing a work environment free from discrimination and harassment. Any form of discrimination or harassment based on race, gender, age, religion, or any other protected characteristic will not be tolerated.\\\\r\\\\n\\\\r\\\\n## 5. Leave and Attendance Policies\\\\r\\\\nEmployees are expected to adhere to the company\\'s leave and attendance policies. This includes requesting time off in advance, accurately reporting hours worked, and notifying their supervisor in case of any unplanned absences.\\\\r\\\\n\\\\r\\\\n## 6. Performance Management Processes\\\\r\\\\nPerformance evaluations are conducted regularly to provide feedback on employee performance. Employees are encouraged to set goals and work towards continuous improvement in their roles.\\\\r\\\\n\\\\r\\\\n## 7. Employee Benefits\\\\r\\\\nInstagram offers a variety of benefits to eligible employees, including health insurance, retirement plans, paid time off, and more. Please refer to the HR department for detailed information on the benefits available to you.\\\\r\\\\n\\\\r\\\\n## 8. Contact Information\\\\r\\\\nIf you have any questions or concerns regarding the information in this Employee Handbook, please contact the HR department at [HR email address] or [HR phone number].\"</p>'"
      ]
     },
     "execution_count": 32,
     "metadata": {},
     "output_type": "execute_result"
    }
   ],
   "source": [
    "combined_text"
   ]
  },
  {
   "cell_type": "code",
   "execution_count": 33,
   "metadata": {},
   "outputs": [],
   "source": [
    "with open('combined_text.txt', 'w') as f:\n",
    "    f.write(combined_text)"
   ]
  },
  {
   "cell_type": "code",
   "execution_count": 35,
   "metadata": {},
   "outputs": [
    {
     "name": "stdout",
     "output_type": "stream",
     "text": [
      "b'\\r\\n### Company Name: Instagram\\r\\n### Category of Document: Business Document\\r\\n### Document Title: Marketing Plan\\r\\n\\r\\n---\\r\\n\\r\\n#### Marketing Plan for Social Media Marketing Services\\r\\n\\r\\nMarket Analysis:\\r\\n- Analysis of current social media marketing trends and competitive landscape.\\r\\n- Identification of key target industries and potential clients for social media marketing services.\\r\\n\\r\\nTarget Audience:\\r\\n- Small businesses, startups, and e-commerce ventures looking to enhance their online presence.\\r\\n- Brands seeking to engage with a younger demographic through social media platforms.\\r\\n\\r\\nMarketing Objectives:\\r\\n- Increase brand awareness and reach through targeted social media campaigns.\\r\\n- Drive customer engagement and conversions for client businesses.\\r\\n\\r\\nStrategies:\\r\\n- Develop personalized social media marketing strategies based on client goals and industry trends.\\r\\n- Utilize influencer collaborations, interactive content, and data-driven insights for optimized marketing campaigns.\\r\\n\\r\\nTactics:\\r\\n- Content creation and curation for social media platforms.\\r\\n- Paid advertising campaigns targeting specific audience segments.\\r\\n- Regular performance tracking and analytics to measure campaign effectiveness.\\r\\n\\r\\nBudget:\\r\\n- Initial budget allocation of $20,000 for social media marketing campaigns and ad spend.\\r\\n- Budget may be adjusted based on campaign performance and client requirements.\\r\\n\\r\\nTimeline:\\r\\n- Campaign implementation and monitoring over a 3-month period.\\r\\n- Monthly reporting and analysis to track performance metrics and adjust strategies.\\r\\n\\r\\nPerformance Metrics:\\r\\n- Key performance indicators include website traffic, engagement rates, lead generation, and conversion metrics.\\r\\n- Monthly reports to be generated for clients to review campaign progress and ROI.\\r\\n\\r\\n---\\r\\n\\r\\n#### Marketing Plan for Influencer Collaboration Services\\r\\n\\r\\nMarket Analysis:\\r\\n- Evaluation of influencer marketing trends and industry benchmarks.\\r\\n- Identification of relevant influencers in target industries for potential collaborations.\\r\\n\\r\\nTarget Audience:\\r\\n- Fashion brands, lifestyle products, and beauty companies looking to leverage influencer partnerships.\\r\\n- Brands aiming to tap into niche markets and increase brand advocacy through influencer endorsements.\\r\\n\\r\\nMarketing Objectives:\\r\\n- Establish authentic brand partnerships with influencers to amplify brand reach and credibility.\\r\\n- Drive user engagement and brand affinity through influencer-generated content.\\r\\n\\r\\nStrategies:\\r\\n- Strategic selection of influencers based on brand fit, audience alignment, and engagement metrics.\\r\\n- Co-creation of compelling content with influencers to resonate with target audiences.\\r\\n\\r\\nTactics:\\r\\n- Influencer outreach and negotiations for collaboration agreements.\\r\\n- Performance monitoring and analysis of influencer campaigns for optimization.\\r\\n- Leveraging influencer content across multiple platforms for extended reach.\\r\\n\\r\\nBudget:\\r\\n- Allocated budget of $15,000 for influencer collaborations and content creation.\\r\\n- Budget flexibility to accommodate high-profile influencers and extended campaign durations.\\r\\n\\r\\nTimeline:\\r\\n- Influencer campaign planning and execution over a 2-month period.\\r\\n- Real-time monitoring of influencer performance and content engagement.\\r\\n\\r\\nPerformance Metrics:\\r\\n- Metrics include influencer reach, engagement rates, content virality, and brand sentiment.\\r\\n- Data-driven insights to measure the impact of influencer collaborations on brand visibility and customer perception.\\r\\n\\r\\n---\\r\\n\\r\\n#### Marketing Plan for Content Creation and Curation Services\\r\\n\\r\\nMarket Analysis:\\r\\n- Assessment of content marketing trends and visual storytelling strategies.\\r\\n- Understanding of audience preferences and content consumption habits on social media platforms.\\r\\n\\r\\nTarget Audience:\\r\\n- Media companies, creative agencies, and lifestyle brands seeking to enhance their content quality and engagement.\\r\\n- Businesses looking to establish a consistent and visually appealing brand identity through curated content.\\r\\n\\r\\nMarketing Objectives:\\r\\n- Elevate brand storytelling through visually captivating and engaging content formats.\\r\\n- Increase audience interaction and user-generated content through immersive brand experiences.\\r\\n\\r\\nStrategies:\\r\\n- Tailored content planning and production based on brand guidelines and audience insights.\\r\\n- Implementing user-generated content campaigns and interactive storytelling elements for enhanced audience engagement'b\"# Board of Directors\\r\\n\\r\\nThe Board of Directors of Instagram consists of highly experienced professionals who provide strategic guidance and oversight to ensure the success and growth of the company. The board members bring diverse expertise and perspectives to the table, contributing to the overall vision and direction of Instagram.\\r\\n\\r\\n## Board Composition\\r\\n\\r\\nThe Board of Directors of Instagram is composed of the following members:\\r\\n\\r\\n1. John Smith - Chairman of the Board\\r\\n   John Smith is an accomplished business leader with over 20 years of experience in the technology industry. He has served as the Chairman of the Board since 2015 and has been instrumental in shaping Instagram's strategic vision.\\r\\n\\r\\n2. Sarah Johnson - CEO, Instagram\\r\\n   Sarah Johnson is the Chief Executive Officer of Instagram, responsible for driving the company's overall growth and success. With her strong leadership skills and deep understanding of social media platforms, Sarah has played a pivotal role in Instagram's evolution.\\r\\n\\r\\n3. David Lee - Chief Financial Officer\\r\\n   David Lee brings extensive financial expertise to the board. As the CFO of Instagram, he is responsible for financial planning, analysis, and strategic investments. David's financial acumen has been instrumental in ensuring the company's financial stability and sustainable growth.\\r\\n\\r\\n4. Emily Davis - Chief Marketing Officer\\r\\n   Emily Davis is the Chief Marketing Officer at Instagram, overseeing all marketing and branding initiatives. With her innovative marketing strategies and deep understanding of consumer behavior, Emily has played a key role in expanding Instagram's user base and increasing brand awareness.\\r\\n\\r\\n## Contributions and Achievements\\r\\n\\r\\nThe Board of Directors has played a crucial role in Instagram's success and achievements over the years. Some of their notable contributions include:\\r\\n\\r\\n- Guiding Instagram through its acquisition by Facebook and ensuring the preservation of its unique identity and features.\\r\\n- Providing strategic guidance in the development and introduction of new features such as Stories, IGTV, and Reels, which have revolutionized content sharing and engagement on the platform.\\r\\n- Supporting the launch of various initiatives to foster a safe and inclusive community, such as proactive content moderation practices and the promotion of positive online behavior.\\r\\n- Overseeing the expansion of Instagram's user base to over 1 billion monthly active users worldwide, making it one of the most popular social media platforms globally.\\r\\n\\r\\nThe Board of Directors remains committed to driving Instagram's growth, fostering innovation, and maintaining a vibrant and inclusive community for users worldwide.\\r\\n\\r\\n## Contact Information\\r\\n\\r\\nFor any inquiries or feedback regarding the Board of Directors, please contact us:\\r\\n\\r\\nEmail: boardofdirectors@instagram.com\\r\\nPhone: +1-123-456-7890\"b\"# About Instagram\\r\\n\\r\\nOverview\\r\\n\\r\\nInstagram is a popular social media platform that allows users to share photos, videos, and stories with their followers. Launched in 2010, Instagram quickly gained widespread popularity due to its user-friendly interface and focus on visual content. The platform was acquired by Facebook in 2012 but has since maintained its own distinct identity and features. Instagram is more than just a social media platform\\x97it's a vibrant community where users can connect, create, and be inspired.\\r\\n\\r\\nMission and Values\\r\\n\\r\\nInstagram's mission is to provide a platform for individuals and businesses to express themselves, connect with others, and share their stories with the world. We believe in the power of visual storytelling and strive to foster an inclusive and supportive community that encourages creativity, authenticity, and positivity. Our core values include:\\r\\n\\r\\n- Creativity: We celebrate the power of creative expression and provide tools and features that enable users to showcase their unique perspectives.\\r\\n- Connection: We believe in the ability of social media to connect people from all walks of life, fostering meaningful relationships and inspiring collaboration.\\r\\n- Authenticity: We promote authenticity and transparency, encouraging users to be their true selves and share their genuine experiences.\\r\\n- Innovation: We continuously innovate and evolve our platform to meet the changing needs and preferences of our diverse user base.\\r\\n\\r\\nHistory\\r\\n\\r\\nInstagram was founded by Mike Krieger and Kevin Systrom in 2010. The platform started as a simple photo-sharing app but quickly gained traction among users, attracting millions of users within a short span of time. In 2012, Instagram caught the attention of Facebook, leading to its acquisition. Since then, Instagram has grown exponentially, introducing new features like Stories, Direct messaging, Explore, IGTV, and Reels to enhance the user experience and expand the possibilities of visual storytelling.\\r\\n\\r\\nKey Personnel\\r\\n\\r\\n- Mike Krieger - Co-founder\\r\\n- Kevin Systrom - Co-founder\\r\\n\\r\\nApproach to Business\\r\\n\\r\\nAt Instagram, we believe in providing a seamless and user-friendly experience through our platform. We prioritize user feedback and continuously iterate our features and functionalities to ensure they meet the evolving needs and preferences of our community. We also strive to maintain a safe and inclusive environment by implementing strict content policies and proactive moderation practices.\\r\\n\\r\\nCustomer Focus\\r\\n\\r\\nOur users are at the heart of everything we do. We are committed to listening to their feedback, addressing their concerns, and implementing features that enhance their overall experience on Instagram. We believe in fostering a sense of belonging and empowerment by providing a platform that allows every individual to express themselves and connect with others.\\r\\n\\r\\nAchievements\\r\\n\\r\\nThroughout our journey, Instagram has achieved significant milestones and contributed to the digital landscape in various ways. Some of our notable achievements include:\\r\\n\\r\\n- Surpassing 1 billion monthly active users worldwide\\r\\n- Introducing features like Stories, IGTV, and Reels, which have revolutionized content sharing and consumption\\r\\n- Facilitating collaborations between creators, businesses, and influencers\\r\\n- Supporting numerous charitable initiatives and advocacy campaigns\\r\\n\\r\\nCommunity Involvement\\r\\n\\r\\nWe take pride in the vibrant community of creators, artists, influencers, and individuals who make Instagram a dynamic and inspiring platform. We actively support and encourage community engagement, whether through amplifying important causes, showcasing emerging talents, or facilitating connections between users with shared interests.\\r\\n\\r\\nContact Information\\r\\n\\r\\nFor any inquiries or feedback, please feel free to reach out to us:\\r\\n\\r\\nEmail: info@instagram.com\\r\\nPhone: +1-123-456-7890\\r\\n\\r\\nJoin the Instagram community today and start sharing your story with the world!\\r\\n\"b\"# Shareholders\\r\\n\\r\\nThis page provides information about the shareholders of Instagram. We believe in transparency and want to establish trust with our community by sharing details about our ownership structure and the individuals or entities that hold shares in our company.\\r\\n\\r\\n## Ownership Structure\\r\\n\\r\\nInstagram is a private company and is currently wholly owned by Facebook Inc. Since its acquisition by Facebook in 2012, Instagram has operated as a separate entity but benefits from the resources and support of its parent company.\\r\\n\\r\\n## Major Shareholders\\r\\n\\r\\nThe major shareholders of Instagram are individuals and entities who have a significant ownership stake in the company. Their contributions and support have been instrumental in the growth and success of the platform. The following are some of our major shareholders:\\r\\n\\r\\n1. Facebook Inc. - As the parent company, Facebook Inc. holds 100% of the shares of Instagram. Facebook Inc. is a global technology company with a diverse portfolio of platforms and services.\\r\\n\\r\\n2. Sarah Johnson - Sarah Johnson, the CEO of Instagram, holds a significant stake in the company. Her leadership and vision have been invaluable in shaping Instagram's direction and growth.\\r\\n\\r\\n3. John Smith - John Smith, the Chairman of the Board of Instagram, is also a major shareholder. With his extensive experience in the technology industry, he has contributed to the strategic guidance and success of Instagram.\\r\\n\\r\\n4. David Lee - David Lee, the Chief Financial Officer of Instagram, holds a significant share in the company. His financial expertise has played a vital role in ensuring the financial stability and growth of Instagram.\\r\\n\\r\\n## Shareholdings\\r\\n\\r\\nThe exact shareholdings of individual shareholders are confidential and not publicly disclosed. Instagram's ownership structure is governed by the agreements and regulations established during its acquisition by Facebook Inc.\\r\\n\\r\\nPlease note that the information provided above is for informational purposes only and is subject to change.\\r\\n\\r\\nFor any inquiries or further information about our shareholders, please feel free to contact us.\\r\\n\\r\\nEmail: shareholders@instagram.com\\r\\nPhone: +1-123-456-7890\"b'## Income Statement\\r\\n\\r\\nCompany Name: XYZ Corporation\\r\\n\\r\\nFor the Year Ended: December 31, 20XX\\r\\n\\r\\n| Category            | Amount      |\\r\\n|---------------------|-------------|\\r\\n| Revenue             | $500,000    |\\r\\n| Cost of Goods Sold  | $200,000    |\\r\\n| Gross Profit        | $300,000    |\\r\\n| Operating Expenses  | $150,000    |\\r\\n| Operating Income    | $150,000    |\\r\\n| Non-Operating Items | $10,000     |\\r\\n| Income Before Taxes | $160,000    |\\r\\n| Income Taxes        | $40,000     |\\r\\n| Net Income          | $120,000    |'b'\\r\\n# Employment Contract\\r\\n\\r\\n## Employee Information:\\r\\n- Employee Name: Emily Brown\\r\\n- Position: UX Designer\\r\\n- Department: Design\\r\\n\\r\\n## Terms and Conditions:\\r\\n- Responsibilities: Designing user interfaces and experiences.\\r\\n- Compensation: $90,000 per year\\r\\n- Benefits: Health insurance, retirement plan\\r\\n- Work Hours: 40 hours per week\\r\\n- Termination Conditions: 30 days\\' notice\\r\\n- Confidentiality Agreement: Yes\\r\\n- Intellectual Property Rights: Company-owned\\r\\n- Compliance with Company Policies: Compliance required\\r\\n\\r\\nThis employment contract is entered into between Instagram (hereinafter referred to as \"Employer\") and Emily Brown (hereinafter referred to as \"Employee\") on April 1, 2022.\\r\\n\\r\\nThis contract outlines the terms and conditions of employment for the Employee and is effective as of the start date of April 1, 2022. Both the Employer and Employee agree to abide by the terms set forth in this contract.\\r\\n'b'\\r\\n# Employment Contract\\r\\n\\r\\n## Employee Information:\\r\\n- Employee Name: Liam Kim\\r\\n- Position: Data Engineer\\r\\n- Department: Data Engineering\\r\\n\\r\\n## Terms and Conditions:\\r\\n- Responsibilities: Designing and maintaining data infrastructure.\\r\\n- Compensation: $105,000 per year\\r\\n- Benefits: Health insurance, retirement plan\\r\\n- Work Hours: 40 hours per week\\r\\n- Termination Conditions: 30 days\\' notice\\r\\n- Confidentiality Agreement: Yes\\r\\n- Intellectual Property Rights: Company-owned\\r\\n- Compliance with Company Policies: Compliance required\\r\\n\\r\\nThis employment contract is entered into between Instagram (hereinafter referred to as \"Employer\") and Liam Kim (hereinafter referred to as \"Employee\") on August 1, 2023.\\r\\n\\r\\nThis contract outlines the terms and conditions of employment for the Employee and is effective as of the start date of August 1, 2023. Both the Employer and Employee agree to abide by the terms set forth in this contract.\\r\\n'b'\\r\\n# Employee Stock Ownership Plan (ESOP)\\r\\n\\r\\n## Employee Information:\\r\\n- Employee Name: Mia Hernandez\\r\\n- Position: Public Relations Manager\\r\\n- Department: Public Relations\\r\\n\\r\\n## ESOP Details:\\r\\n- Allocation of Shares: 110 shares\\r\\n- Vesting Schedule: 4-year vesting schedule\\r\\n- Eligibility Criteria: Full-time employment\\r\\n- Valuation Methods: Fair market value\\r\\n- Rights and Responsibilities: Voting rights, dividend entitlement\\r\\n\\r\\nThis Employee Stock Ownership Plan (ESOP) is entered into between Instagram (hereinafter referred to as \"Employer\") and Mia Hernandez (hereinafter referred to as \"Employee\") on January 1, 2023.\\r\\n\\r\\nThe ESOP details the allocation of shares, vesting schedule, eligibility criteria, valuation methods, and the rights and responsibilities of participating employees. This plan aims to provide employees with an ownership interest in the company, aligning their interests with that of the company.\\r\\n'b'\\r\\n# Employee Payslip\\r\\n\\r\\n## Employee Information:\\r\\n- Employee Name: Michael Johnson\\r\\n- Employee ID: 12347\\r\\n- Position: Product Manager\\r\\n- Department: Product Management\\r\\n\\r\\n## Pay Period:\\r\\n- Start Date: March 1, 2022\\r\\n- End Date: March 15, 2022\\r\\n\\r\\n## Earnings:\\r\\n- Basic Salary: $5,000.00\\r\\n- Allowances: $600.00\\r\\n- Bonuses: $1,200.00\\r\\n- Total Earnings: $6,800.00\\r\\n\\r\\n## Deductions:\\r\\n- Taxes: $1,200.00\\r\\n- Insurance Contributions: $240.00\\r\\n- Other Deductions: $120.00\\r\\n- Total Deductions: $1,560.00\\r\\n\\r\\n## Net Pay:\\r\\n- Net Pay: $5,240.00\\r\\n\\r\\nThis Employee Payslip is issued to Michael Johnson for the pay period from March 1, 2022 to March 15, 2022. It provides a detailed breakdown of earnings, deductions, and the net pay for the specified period.\\r\\n'b\"# Employee Handbook\\r\\n\\r\\n## Company Name: Instagram\\r\\n\\r\\n### Table of Contents\\r\\n1. Introduction\\r\\n2. Mission and Values\\r\\n3. Code of Conduct\\r\\n4. Anti-Discrimination and Harassment Policies\\r\\n5. Leave and Attendance Policies\\r\\n6. Performance Management Processes\\r\\n7. Employee Benefits\\r\\n8. Contact Information\\r\\n\\r\\n## 1. Introduction\\r\\nWelcome to Instagram! This Employee Handbook is designed to provide you with important information about our company policies, procedures, benefits, and expectations. Please take the time to read through this handbook carefully and refer back to it whenever you have questions about your rights and responsibilities as an employee.\\r\\n\\r\\n## 2. Mission and Values\\r\\nAt Instagram, our mission is to provide a platform where users can connect, create, and be inspired. We value creativity, diversity, and inclusion in everything we do. It is important that all employees align with our mission and values to create a positive and inclusive work environment.\\r\\n\\r\\n## 3. Code of Conduct\\r\\nEmployees are expected to conduct themselves in a professional manner at all times. This includes treating all colleagues and customers with respect, maintaining confidentiality of company information, and following all company policies and procedures.\\r\\n\\r\\n## 4. Anti-Discrimination and Harassment Policies\\r\\nInstagram is committed to providing a work environment free from discrimination and harassment. Any form of discrimination or harassment based on race, gender, age, religion, or any other protected characteristic will not be tolerated.\\r\\n\\r\\n## 5. Leave and Attendance Policies\\r\\nEmployees are expected to adhere to the company's leave and attendance policies. This includes requesting time off in advance, accurately reporting hours worked, and notifying their supervisor in case of any unplanned absences.\\r\\n\\r\\n## 6. Performance Management Processes\\r\\nPerformance evaluations are conducted regularly to provide feedback on employee performance. Employees are encouraged to set goals and work towards continuous improvement in their roles.\\r\\n\\r\\n## 7. Employee Benefits\\r\\nInstagram offers a variety of benefits to eligible employees, including health insurance, retirement plans, paid time off, and more. Please refer to the HR department for detailed information on the benefits available to you.\\r\\n\\r\\n## 8. Contact Information\\r\\nIf you have any questions or concerns regarding the information in this Employee Handbook, please contact the HR department at [HR email address] or [HR phone number].\"\n"
     ]
    }
   ],
   "source": [
    "import re\n",
    "clean = re.compile(r'<.*?>')\n",
    "\n",
    "# Remove HTML tags using the regular expression\n",
    "plain_text = re.sub(clean, '', combined_text)\n",
    "\n",
    "# Print the resulting text without markdown tags\n",
    "print(plain_text)"
   ]
  },
  {
   "cell_type": "code",
   "execution_count": null,
   "metadata": {},
   "outputs": [],
   "source": [
    "from spacy.lang.en import English \n",
    "from spacy import displacy  \n",
    "import re\n",
    "import pandas as pd\n",
    "import spacy\n",
    "import random"
   ]
  },
  {
   "cell_type": "code",
   "execution_count": 36,
   "metadata": {},
   "outputs": [],
   "source": [
    "from spacy.training.example import Example\n",
    "\n",
    "def train_spacy(data, iterations):\n",
    "    nlp = spacy.blank(\"en\")  # Create a blank English model\n",
    "    if \"ner\" not in nlp.pipe_names:\n",
    "        ner = nlp.add_pipe(\"ner\", last=True)\n",
    "\n",
    "    for _, annotations in data:\n",
    "        for ent in annotations.get(\"entities\"):\n",
    "            ner.add_label(ent[2])\n",
    "\n",
    "    other_pipes = [pipe for pipe in nlp.pipe_names if pipe != \"ner\"]\n",
    "    with nlp.disable_pipes(*other_pipes):\n",
    "        optimizer = nlp.begin_training()\n",
    "        for itn in range(iterations):\n",
    "            losses = {}\n",
    "            random.shuffle(data)\n",
    "            for text, annots in data:\n",
    "                example = Example.from_dict(nlp.make_doc(text), annots)\n",
    "                nlp.update([example], drop=0.5, sgd=optimizer, losses=losses)\n",
    "            print(losses)\n",
    "    return nlp"
   ]
  },
  {
   "cell_type": "code",
   "execution_count": 37,
   "metadata": {},
   "outputs": [
    {
     "name": "stdout",
     "output_type": "stream",
     "text": [
      "{'classes': ['PEOPLE', 'ORGANIZATION', 'PLACES', 'CONTACT_INFO', 'MONEY'], 'annotations': [['<p>b\\'\\\\r\\\\n### Company Name: Instagram\\\\r\\\\n### Category of Document: Business Document\\\\r\\\\n### Document Title: Marketing Plan\\\\r\\\\n\\\\r\\\\n---\\\\r\\\\n\\\\r\\\\n#### <strong>Marketing Plan for Social Media Marketing Services</strong>\\\\r\\\\n\\\\r\\\\n<strong>Market Analysis:</strong>\\\\r\\\\n- Analysis of current social media marketing trends and competitive landscape.\\\\r\\\\n- Identification of key target industries and potential clients for social media marketing services.\\\\r\\\\n\\\\r\\\\n<strong>Target Audience:</strong>\\\\r\\\\n- Small businesses, startups, and e-commerce ventures looking to enhance their online presence.\\\\r\\\\n- Brands seeking to engage with a younger demographic through social media platforms.\\\\r\\\\n\\\\r\\\\n<strong>Marketing Objectives:</strong>\\\\r\\\\n- Increase brand awareness and reach through targeted social media campaigns.\\\\r\\\\n- Drive customer engagement and conversions for client businesses.\\\\r\\\\n\\\\r\\\\n<strong>Strategies:</strong>\\\\r\\\\n- Develop personalized social media marketing strategies based on client goals and industry trends.\\\\r\\\\n- Utilize influencer collaborations, interactive content, and data-driven insights for optimized marketing campaigns.\\\\r\\\\n\\\\r\\\\n<strong>Tactics:</strong>\\\\r\\\\n- Content creation and curation for social media platforms.\\\\r\\\\n- Paid advertising campaigns targeting specific audience segments.\\\\r\\\\n- Regular performance tracking and analytics to measure campaign effectiveness.\\\\r\\\\n\\\\r\\\\n<strong>Budget:</strong>\\\\r\\\\n- Initial budget allocation of $20,000 for social media marketing campaigns and ad spend.\\\\r\\\\n- Budget may be adjusted based on campaign performance and client requirements.\\\\r\\\\n\\\\r\\\\n<strong>Timeline:</strong>\\\\r\\\\n- Campaign implementation and monitoring over a 3-month period.\\\\r\\\\n- Monthly reporting and analysis to track performance metrics and adjust strategies.\\\\r\\\\n\\\\r\\\\n<strong>Performance Metrics:</strong>\\\\r\\\\n- Key performance indicators include website traffic, engagement rates, lead generation, and conversion metrics.\\\\r\\\\n- Monthly reports to be generated for clients to review campaign progress and ROI.\\\\r\\\\n\\\\r\\\\n---\\\\r\\\\n\\\\r\\\\n#### <strong>Marketing Plan for Influencer Collaboration Services</strong>\\\\r\\\\n\\\\r\\\\n<strong>Market Analysis:</strong>\\\\r\\\\n- Evaluation of influencer marketing trends and industry benchmarks.\\\\r\\\\n- Identification of relevant influencers in target industries for potential collaborations.\\\\r\\\\n\\\\r\\\\n<strong>Target Audience:</strong>\\\\r\\\\n- Fashion brands, lifestyle products, and beauty companies looking to leverage influencer partnerships.\\\\r\\\\n- Brands aiming to tap into niche markets and increase brand advocacy through influencer endorsements.\\\\r\\\\n\\\\r\\\\n<strong>Marketing Objectives:</strong>\\\\r\\\\n- Establish authentic brand partnerships with influencers to amplify brand reach and credibility.\\\\r\\\\n- Drive user engagement and brand affinity through influencer-generated content.\\\\r\\\\n\\\\r\\\\n<strong>Strategies:</strong>\\\\r\\\\n- Strategic selection of influencers based on brand fit, audience alignment, and engagement metrics.\\\\r\\\\n- Co-creation of compelling content with influencers to resonate with target audiences.\\\\r\\\\n\\\\r\\\\n<strong>Tactics:</strong>\\\\r\\\\n- Influencer outreach and negotiations for collaboration agreements.\\\\r\\\\n- Performance monitoring and analysis of influencer campaigns for optimization.\\\\r\\\\n- Leveraging influencer content across multiple platforms for extended reach.\\\\r\\\\n\\\\r\\\\n<strong>Budget:</strong>\\\\r\\\\n- Allocated budget of $15,000 for influencer collaborations and content creation.\\\\r\\\\n- Budget flexibility to accommodate high-profile influencers and extended campaign durations.\\\\r\\\\n\\\\r\\\\n<strong>Timeline:</strong>\\\\r\\\\n- Influencer campaign planning and execution over a 2-month period.\\\\r\\\\n- Real-time monitoring of influencer performance and content engagement.\\\\r\\\\n\\\\r\\\\n<strong>Performance Metrics:</strong>\\\\r\\\\n- Metrics include influencer reach, engagement rates, content virality, and brand sentiment.\\\\r\\\\n- Data-driven insights to measure the impact of influencer collaborations on brand visibility and customer perception.\\\\r\\\\n\\\\r\\\\n---\\\\r\\\\n\\\\r\\\\n#### <strong>Marketing Plan for Content Creation and Curation Services</strong>\\\\r\\\\n\\\\r\\\\n<strong>Market Analysis:</strong>\\\\r\\\\n- Assessment of content marketing trends and visual storytelling strategies.\\\\r\\\\n- Understanding of audience preferences and content consumption habits on social media platforms.\\\\r\\\\n\\\\r\\\\n<strong>Target Audience:</strong>\\\\r\\\\n- Media companies, creative agencies, and lifestyle brands seeking to enhance their content quality and engagement.\\\\r\\\\n- Businesses looking to establish a consistent and visually appealing brand identity through curated content.\\\\r\\\\n\\\\r\\\\n<strong>Marketing Objectives:</strong>\\\\r\\\\n- Elevate brand storytelling through visually captivating and engaging content formats.\\\\r\\\\n- Increase audience interaction and user-generated content through immersive brand experiences.\\\\r\\\\n\\\\r\\\\n<strong>Strategies:</strong>\\\\r\\\\n- Tailored content planning and production based on brand guidelines and audience insights.\\\\r\\\\n- Implementing user-generated content campaigns and interactive storytelling elements for enhanced audience engagement\\'</p><p>b\"# Board of Directors\\\\r\\\\n\\\\r\\\\nThe Board of Directors of Instagram consists of highly experienced professionals who provide strategic guidance and oversight to ensure the success and growth of the company. The board members bring diverse expertise and perspectives to the table, contributing to the overall vision and direction of Instagram.\\\\r\\\\n\\\\r\\\\n## Board Composition\\\\r\\\\n\\\\r\\\\nThe Board of Directors of Instagram is composed of the following members:\\\\r\\\\n\\\\r\\\\n1. <strong>John Smith</strong> - Chairman of the Board<br>\\\\r\\\\n   John Smith is an accomplished business leader with over 20 years of experience in the technology industry. He has served as the Chairman of the Board since 2015 and has been instrumental in shaping Instagram\\'s strategic vision.\\\\r\\\\n\\\\r\\\\n2. <strong>Sarah Johnson</strong> - CEO, Instagram<br>\\\\r\\\\n   Sarah Johnson is the Chief Executive Officer of Instagram, responsible for driving the company\\'s overall growth and success. With her strong leadership skills and deep understanding of social media platforms, Sarah has played a pivotal role in Instagram\\'s evolution.\\\\r\\\\n\\\\r\\\\n3. <strong>David Lee</strong> - Chief Financial Officer<br>\\\\r\\\\n   David Lee brings extensive financial expertise to the board. As the CFO of Instagram, he is responsible for financial planning, analysis, and strategic investments. David\\'s financial acumen has been instrumental in ensuring the company\\'s financial stability and sustainable growth.\\\\r\\\\n\\\\r\\\\n4. <strong>Emily Davis</strong> - Chief Marketing Officer<br>\\\\r\\\\n   Emily Davis is the Chief Marketing Officer at Instagram, overseeing all marketing and branding initiatives. With her innovative marketing strategies and deep understanding of consumer behavior, Emily has played a key role in expanding Instagram\\'s user base and increasing brand awareness.\\\\r\\\\n\\\\r\\\\n## Contributions and Achievements\\\\r\\\\n\\\\r\\\\nThe Board of Directors has played a crucial role in Instagram\\'s success and achievements over the years. Some of their notable contributions include:\\\\r\\\\n\\\\r\\\\n- Guiding Instagram through its acquisition by Facebook and ensuring the preservation of its unique identity and features.\\\\r\\\\n- Providing strategic guidance in the development and introduction of new features such as Stories, IGTV, and Reels, which have revolutionized content sharing and engagement on the platform.\\\\r\\\\n- Supporting the launch of various initiatives to foster a safe and inclusive community, such as proactive content moderation practices and the promotion of positive online behavior.\\\\r\\\\n- Overseeing the expansion of Instagram\\'s user base to over 1 billion monthly active users worldwide, making it one of the most popular social media platforms globally.\\\\r\\\\n\\\\r\\\\nThe Board of Directors remains committed to driving Instagram\\'s growth, fostering innovation, and maintaining a vibrant and inclusive community for users worldwide.\\\\r\\\\n\\\\r\\\\n## Contact Information\\\\r\\\\n\\\\r\\\\nFor any inquiries or feedback regarding the Board of Directors, please contact us:\\\\r\\\\n\\\\r\\\\nEmail: boardofdirectors@instagram.com\\\\r\\\\nPhone: +1-123-456-7890\"</p><p>b\"# About Instagram\\\\r\\\\n\\\\r\\\\n<strong>Overview</strong>\\\\r\\\\n\\\\r\\\\nInstagram is a popular social media platform that allows users to share photos, videos, and stories with their followers. Launched in 2010, Instagram quickly gained widespread popularity due to its user-friendly interface and focus on visual content. The platform was acquired by Facebook in 2012 but has since maintained its own distinct identity and features. Instagram is more than just a social media platform\\\\x97it\\'s a vibrant community where users can connect, create, and be inspired.\\\\r\\\\n\\\\r\\\\n<strong>Mission and Values</strong>\\\\r\\\\n\\\\r\\\\nInstagram\\'s mission is to provide a platform for individuals and businesses to express themselves, connect with others, and share their stories with the world. We believe in the power of visual storytelling and strive to foster an inclusive and supportive community that encourages creativity, authenticity, and positivity. Our core values include:\\\\r\\\\n\\\\r\\\\n- Creativity: We celebrate the power of creative expression and provide tools and features that enable users to showcase their unique perspectives.\\\\r\\\\n- Connection: We believe in the ability of social media to connect people from all walks of life, fostering meaningful relationships and inspiring collaboration.\\\\r\\\\n- Authenticity: We promote authenticity and transparency, encouraging users to be their true selves and share their genuine experiences.\\\\r\\\\n- Innovation: We continuously innovate and evolve our platform to meet the changing needs and preferences of our diverse user base.\\\\r\\\\n\\\\r\\\\n<strong>History</strong>\\\\r\\\\n\\\\r\\\\nInstagram was founded by Mike Krieger and Kevin Systrom in 2010. The platform started as a simple photo-sharing app but quickly gained traction among users, attracting millions of users within a short span of time. In 2012, Instagram caught the attention of Facebook, leading to its acquisition. Since then, Instagram has grown exponentially, introducing new features like Stories, Direct messaging, Explore, IGTV, and Reels to enhance the user experience and expand the possibilities of visual storytelling.\\\\r\\\\n\\\\r\\\\n<strong>Key Personnel</strong>\\\\r\\\\n\\\\r\\\\n- Mike Krieger - Co-founder\\\\r\\\\n- Kevin Systrom - Co-founder\\\\r\\\\n\\\\r\\\\n<strong>Approach to Business</strong>\\\\r\\\\n\\\\r\\\\nAt Instagram, we believe in providing a seamless and user-friendly experience through our platform. We prioritize user feedback and continuously iterate our features and functionalities to ensure they meet the evolving needs and preferences of our community. We also strive to maintain a safe and inclusive environment by implementing strict content policies and proactive moderation practices.\\\\r\\\\n\\\\r\\\\n<strong>Customer Focus</strong>\\\\r\\\\n\\\\r\\\\nOur users are at the heart of everything we do. We are committed to listening to their feedback, addressing their concerns, and implementing features that enhance their overall experience on Instagram. We believe in fostering a sense of belonging and empowerment by providing a platform that allows every individual to express themselves and connect with others.\\\\r\\\\n\\\\r\\\\n<strong>Achievements</strong>\\\\r\\\\n\\\\r\\\\nThroughout our journey, Instagram has achieved significant milestones and contributed to the digital landscape in various ways. Some of our notable achievements include:\\\\r\\\\n\\\\r\\\\n- Surpassing 1 billion monthly active users worldwide\\\\r\\\\n- Introducing features like Stories, IGTV, and Reels, which have revolutionized content sharing and consumption\\\\r\\\\n- Facilitating collaborations between creators, businesses, and influencers\\\\r\\\\n- Supporting numerous charitable initiatives and advocacy campaigns\\\\r\\\\n\\\\r\\\\n<strong>Community Involvement</strong>\\\\r\\\\n\\\\r\\\\nWe take pride in the vibrant community of creators, artists, influencers, and individuals who make Instagram a dynamic and inspiring platform. We actively support and encourage community engagement, whether through amplifying important causes, showcasing emerging talents, or facilitating connections between users with shared interests.\\\\r\\\\n\\\\r\\\\n<strong>Contact Information</strong>\\\\r\\\\n\\\\r\\\\nFor any inquiries or feedback, please feel free to reach out to us:\\\\r\\\\n\\\\r\\\\nEmail: info@instagram.com\\\\r\\\\nPhone: +1-123-456-7890\\\\r\\\\n\\\\r\\\\nJoin the Instagram community today and start sharing your story with the world!\\\\r\\\\n\"</p><p>b\"# Shareholders\\\\r\\\\n\\\\r\\\\nThis page provides information about the shareholders of Instagram. We believe in transparency and want to establish trust with our community by sharing details about our ownership structure and the individuals or entities that hold shares in our company.\\\\r\\\\n\\\\r\\\\n## Ownership Structure\\\\r\\\\n\\\\r\\\\nInstagram is a private company and is currently wholly owned by Facebook Inc. Since its acquisition by Facebook in 2012, Instagram has operated as a separate entity but benefits from the resources and support of its parent company.\\\\r\\\\n\\\\r\\\\n## Major Shareholders\\\\r\\\\n\\\\r\\\\nThe major shareholders of Instagram are individuals and entities who have a significant ownership stake in the company. Their contributions and support have been instrumental in the growth and success of the platform. The following are some of our major shareholders:\\\\r\\\\n\\\\r\\\\n1. <strong>Facebook Inc.</strong> - As the parent company, Facebook Inc. holds 100% of the shares of Instagram. Facebook Inc. is a global technology company with a diverse portfolio of platforms and services.\\\\r\\\\n\\\\r\\\\n2. <strong>Sarah Johnson</strong> - Sarah Johnson, the CEO of Instagram, holds a significant stake in the company. Her leadership and vision have been invaluable in shaping Instagram\\'s direction and growth.\\\\r\\\\n\\\\r\\\\n3. <strong>John Smith</strong> - John Smith, the Chairman of the Board of Instagram, is also a major shareholder. With his extensive experience in the technology industry, he has contributed to the strategic guidance and success of Instagram.\\\\r\\\\n\\\\r\\\\n4. <strong>David Lee</strong> - David Lee, the Chief Financial Officer of Instagram, holds a significant share in the company. His financial expertise has played a vital role in ensuring the financial stability and growth of Instagram.\\\\r\\\\n\\\\r\\\\n## Shareholdings\\\\r\\\\n\\\\r\\\\nThe exact shareholdings of individual shareholders are confidential and not publicly disclosed. Instagram\\'s ownership structure is governed by the agreements and regulations established during its acquisition by Facebook Inc.\\\\r\\\\n\\\\r\\\\nPlease note that the information provided above is for informational purposes only and is subject to change.\\\\r\\\\n\\\\r\\\\nFor any inquiries or further information about our shareholders, please feel free to contact us.\\\\r\\\\n\\\\r\\\\nEmail: shareholders@instagram.com\\\\r\\\\nPhone: +1-123-456-7890\"</p><p>b\\'## Income Statement\\\\r\\\\n\\\\r\\\\n<strong>Company Name:</strong> XYZ Corporation\\\\r\\\\n\\\\r\\\\n<strong>For the Year Ended:</strong> December 31, 20XX\\\\r\\\\n\\\\r\\\\n| Category            | Amount      |\\\\r\\\\n|---------------------|-------------|\\\\r\\\\n| Revenue             | $500,000    |\\\\r\\\\n| Cost of Goods Sold  | $200,000    |\\\\r\\\\n| Gross Profit        | $300,000    |\\\\r\\\\n| Operating Expenses  | $150,000    |\\\\r\\\\n| Operating Income    | $150,000    |\\\\r\\\\n| Non-Operating Items | $10,000     |\\\\r\\\\n| Income Before Taxes | $160,000    |\\\\r\\\\n| Income Taxes        | $40,000     |\\\\r\\\\n| Net Income          | $120,000    |\\'</p><p>b\\'\\\\r\\\\n# Employment Contract\\\\r\\\\n\\\\r\\\\n## Employee Information:\\\\r\\\\n- <strong>Employee Name:</strong> Emily Brown\\\\r\\\\n- <strong>Position:</strong> UX Designer\\\\r\\\\n- <strong>Department:</strong> Design\\\\r\\\\n\\\\r\\\\n## Terms and Conditions:\\\\r\\\\n- <strong>Responsibilities:</strong> Designing user interfaces and experiences.\\\\r\\\\n- <strong>Compensation:</strong> $90,000 per year\\\\r\\\\n- <strong>Benefits:</strong> Health insurance, retirement plan\\\\r\\\\n- <strong>Work Hours:</strong> 40 hours per week\\\\r\\\\n- <strong>Termination Conditions:</strong> 30 days\\\\\\' notice\\\\r\\\\n- <strong>Confidentiality Agreement:</strong> Yes\\\\r\\\\n- <strong>Intellectual Property Rights:</strong> Company-owned\\\\r\\\\n- <strong>Compliance with Company Policies:</strong> Compliance required\\\\r\\\\n\\\\r\\\\nThis employment contract is entered into between Instagram (hereinafter referred to as \"Employer\") and Emily Brown (hereinafter referred to as \"Employee\") on April 1, 2022.\\\\r\\\\n\\\\r\\\\nThis contract outlines the terms and conditions of employment for the Employee and is effective as of the start date of April 1, 2022. Both the Employer and Employee agree to abide by the terms set forth in this contract.\\\\r\\\\n\\'</p><p>b\\'\\\\r\\\\n# Employment Contract\\\\r\\\\n\\\\r\\\\n## Employee Information:\\\\r\\\\n- <strong>Employee Name:</strong> Liam Kim\\\\r\\\\n- <strong>Position:</strong> Data Engineer\\\\r\\\\n- <strong>Department:</strong> Data Engineering\\\\r\\\\n\\\\r\\\\n## Terms and Conditions:\\\\r\\\\n- <strong>Responsibilities:</strong> Designing and maintaining data infrastructure.\\\\r\\\\n- <strong>Compensation:</strong> $105,000 per year\\\\r\\\\n- <strong>Benefits:</strong> Health insurance, retirement plan\\\\r\\\\n- <strong>Work Hours:</strong> 40 hours per week\\\\r\\\\n- <strong>Termination Conditions:</strong> 30 days\\\\\\' notice\\\\r\\\\n- <strong>Confidentiality Agreement:</strong> Yes\\\\r\\\\n- <strong>Intellectual Property Rights:</strong> Company-owned\\\\r\\\\n- <strong>Compliance with Company Policies:</strong> Compliance required\\\\r\\\\n\\\\r\\\\nThis employment contract is entered into between Instagram (hereinafter referred to as \"Employer\") and Liam Kim (hereinafter referred to as \"Employee\") on August 1, 2023.\\\\r\\\\n\\\\r\\\\nThis contract outlines the terms and conditions of employment for the Employee and is effective as of the start date of August 1, 2023. Both the Employer and Employee agree to abide by the terms set forth in this contract.\\\\r\\\\n\\'</p><p>b\\'\\\\r\\\\n# Employee Stock Ownership Plan (ESOP)\\\\r\\\\n\\\\r\\\\n## Employee Information:\\\\r\\\\n- <strong>Employee Name:</strong> Mia Hernandez\\\\r\\\\n- <strong>Position:</strong> Public Relations Manager\\\\r\\\\n- <strong>Department:</strong> Public Relations\\\\r\\\\n\\\\r\\\\n## ESOP Details:\\\\r\\\\n- <strong>Allocation of Shares:</strong> 110 shares\\\\r\\\\n- <strong>Vesting Schedule:</strong> 4-year vesting schedule\\\\r\\\\n- <strong>Eligibility Criteria:</strong> Full-time employment\\\\r\\\\n- <strong>Valuation Methods:</strong> Fair market value\\\\r\\\\n- <strong>Rights and Responsibilities:</strong> Voting rights, dividend entitlement\\\\r\\\\n\\\\r\\\\nThis Employee Stock Ownership Plan (ESOP) is entered into between Instagram (hereinafter referred to as \"Employer\") and Mia Hernandez (hereinafter referred to as \"Employee\") on January 1, 2023.\\\\r\\\\n\\\\r\\\\nThe ESOP details the allocation of shares, vesting schedule, eligibility criteria, valuation methods, and the rights and responsibilities of participating employees. This plan aims to provide employees with an ownership interest in the company, aligning their interests with that of the company.\\\\r\\\\n\\'</p><p>b\\'\\\\r\\\\n# Employee Payslip\\\\r\\\\n\\\\r\\\\n## Employee Information:\\\\r\\\\n- <strong>Employee Name:</strong> Michael Johnson\\\\r\\\\n- <strong>Employee ID:</strong> 12347\\\\r\\\\n- <strong>Position:</strong> Product Manager\\\\r\\\\n- <strong>Department:</strong> Product Management\\\\r\\\\n\\\\r\\\\n## Pay Period:\\\\r\\\\n- <strong>Start Date:</strong> March 1, 2022\\\\r\\\\n- <strong>End Date:</strong> March 15, 2022\\\\r\\\\n\\\\r\\\\n## Earnings:\\\\r\\\\n- <strong>Basic Salary:</strong> $5,000.00\\\\r\\\\n- <strong>Allowances:</strong> $600.00\\\\r\\\\n- <strong>Bonuses:</strong> $1,200.00\\\\r\\\\n- <strong>Total Earnings:</strong> $6,800.00\\\\r\\\\n\\\\r\\\\n## Deductions:\\\\r\\\\n- <strong>Taxes:</strong> $1,200.00\\\\r\\\\n- <strong>Insurance Contributions:</strong> $240.00\\\\r\\\\n- <strong>Other Deductions:</strong> $120.00\\\\r\\\\n- <strong>Total Deductions:</strong> $1,560.00\\\\r\\\\n\\\\r\\\\n## Net Pay:\\\\r\\\\n- <strong>Net Pay:</strong> $5,240.00\\\\r\\\\n\\\\r\\\\nThis Employee Payslip is issued to Michael Johnson for the pay period from March 1, 2022 to March 15, 2022. It provides a detailed breakdown of earnings, deductions, and the net pay for the specified period.\\\\r\\\\n\\'</p><p>b\"# Employee Handbook\\\\r\\\\n\\\\r\\\\n## Company Name: Instagram\\\\r\\\\n\\\\r\\\\n### Table of Contents\\\\r\\\\n1. Introduction\\\\r\\\\n2. Mission and Values\\\\r\\\\n3. Code of Conduct\\\\r\\\\n4. Anti-Discrimination and Harassment Policies\\\\r\\\\n5. Leave and Attendance Policies\\\\r\\\\n6. Performance Management Processes\\\\r\\\\n7. Employee Benefits\\\\r\\\\n8. Contact Information\\\\r\\\\n\\\\r\\\\n## 1. Introduction\\\\r\\\\nWelcome to Instagram! This Employee Handbook is designed to provide you with important information about our company policies, procedures, benefits, and expectations. Please take the time to read through this handbook carefully and refer back to it whenever you have questions about your rights and responsibilities as an employee.\\\\r\\\\n\\\\r\\\\n## 2. Mission and Values\\\\r\\\\nAt Instagram, our mission is to provide a platform where users can connect, create, and be inspired. We value creativity, diversity, and inclusion in everything we do. It is important that all employees align with our mission and values to create a positive and inclusive work environment.\\\\r\\\\n\\\\r\\\\n## 3. Code of Conduct\\\\r\\\\nEmployees are expected to conduct themselves in a professional manner at all times. This includes treating all colleagues and customers with respect, maintaining confidentiality of company information, and following all company policies and procedures.\\\\r\\\\n\\\\r\\\\n## 4. Anti-Discrimination and Harassment Policies\\\\r\\\\nInstagram is committed to providing a work environment free from discrimination and harassment. Any form of discrimination or harassment based on race, gender, age, religion, or any other protected characteristic will not be tolerated.\\\\r\\\\n\\\\r\\\\n## 5. Leave and Attendance Policies\\\\r\\\\nEmployees are expected to adhere to the company\\'s leave and attendance policies. This includes requesting time off in advance, accurately reporting hours worked, and notifying their supervisor in case of any unplanned absences.\\\\r\\\\n\\\\r\\\\n## 6. Performance Management Processes\\\\r\\\\nPerformance evaluations are conducted regularly to provide feedback on employee performance. Employees are encouraged to set goals and work towards continuous improvement in their roles.\\\\r\\\\n\\\\r\\\\n## 7. Employee Benefits\\\\r\\\\nInstagram offers a variety of benefits to eligible employees, including health insurance, retirement plans, paid time off, and more. Please refer to the HR department for detailed information on the benefits available to you.\\\\r\\\\n\\\\r\\\\n## 8. Contact Information\\\\r\\\\nIf you have any questions or concerns regarding the information in this Employee Handbook, please contact the HR department at [HR email address] or [HR phone number].\"</p>', {'entities': [[27, 40, 'ORGANIZATION'], [1441, 1448, 'MONEY'], [3362, 3369, 'MONEY'], [5108, 5117, 'ORGANIZATION'], [5454, 5463, 'ORGANIZATION'], [5520, 5530, 'PEOPLE'], [5574, 5584, 'PEOPLE'], [5820, 5833, 'PEOPLE'], [5850, 5859, 'ORGANIZATION'], [5870, 5883, 'PEOPLE'], [6079, 6084, 'PEOPLE'], [6155, 6164, 'PEOPLE'], [6210, 6219, 'PEOPLE'], [6510, 6521, 'PEOPLE'], [6567, 6578, 'PEOPLE'], [7071, 7080, 'ORGANIZATION'], [7108, 7116, 'ORGANIZATION'], [7597, 7608, 'ORGANIZATION'], [7795, 7806, 'ORGANIZATION'], [8027, 8099, 'CONTACT_INFO'], [8116, 8133, 'ORGANIZATION'], [8158, 8175, 'ORGANIZATION'], [8306, 8315, 'ORGANIZATION'], [8446, 8454, 'ORGANIZATION'], [8528, 8537, 'ORGANIZATION'], [8700, 8719, 'ORGANIZATION'], [9716, 9728, 'PEOPLE'], [9733, 9746, 'PEOPLE'], [9915, 9924, 'ORGANIZATION'], [9999, 10008, 'ORGANIZATION'], [10247, 10259, 'PEOPLE'], [10278, 10291, 'PEOPLE'], [10360, 10369, 'ORGANIZATION'], [12210, 12281, 'CONTACT_INFO'], [12286, 12295, 'ORGANIZATION'], [12749, 12762, 'ORGANIZATION'], [12788, 12796, 'ORGANIZATION'], [12979, 12988, 'ORGANIZATION'], [13239, 13252, 'ORGANIZATION'], [13287, 13300, 'ORGANIZATION'], [13329, 13339, 'ORGANIZATION'], [13340, 13353, 'ORGANIZATION'], [13455, 13468, 'PEOPLE'], [13480, 13493, 'PEOPLE'], [13506, 13515, 'ORGANIZATION'], [13617, 13628, 'ORGANIZATION'], [13669, 13679, 'PEOPLE'], [13691, 13701, 'PEOPLE'], [13732, 13741, 'ORGANIZATION'], [13919, 13928, 'PEOPLE'], [13940, 13949, 'PEOPLE'], [14387, 14395, 'ORGANIZATION'], [14617, 14688, 'CONTACT_INFO'], [14755, 14778, 'ORGANIZATION'], [14946, 14954, 'MONEY'], [14987, 14995, 'MONEY'], [15028, 15036, 'MONEY'], [15069, 15077, 'MONEY'], [15110, 15118, 'MONEY'], [15151, 15158, 'MONEY'], [15192, 15200, 'MONEY'], [15233, 15240, 'MONEY'], [15274, 15282, 'MONEY'], [15392, 15408, 'PEOPLE'], [15640, 15647, 'MONEY'], [16089, 16098, 'ORGANIZATION'], [16143, 16154, 'PEOPLE'], [16550, 16563, 'PEOPLE'], [16811, 16819, 'MONEY'], [17315, 17323, 'PEOPLE'], [17738, 17756, 'PEOPLE'], [18287, 18296, 'ORGANIZATION'], [18341, 18354, 'PEOPLE'], [18823, 18843, 'PEOPLE'], [19154, 19168, 'MONEY'], [19198, 19210, 'MONEY'], [19237, 19251, 'MONEY'], [19285, 19302, 'MONEY'], [19346, 19360, 'MONEY'], [19403, 19415, 'MONEY'], [19451, 19463, 'MONEY'], [19499, 19516, 'MONEY'], [19559, 19580, 'MONEY'], [19611, 19626, 'PEOPLE'], [19841, 19858, 'ORGANIZATION'], [20161, 20170, 'ORGANIZATION'], [20520, 20529, 'ORGANIZATION'], [21920, 21941, 'ORGANIZATION']]}]]}\n"
     ]
    }
   ],
   "source": [
    "import json\n",
    "\n",
    "# Open the JSON file\n",
    "with open(\"annotations.json\") as f:\n",
    "    data = json.load(f)\n",
    "\n",
    "print(data)\n"
   ]
  },
  {
   "cell_type": "code",
   "execution_count": 44,
   "metadata": {},
   "outputs": [
    {
     "data": {
      "text/plain": [
       "[['<p>b\\'\\\\r\\\\n### Company Name: Instagram\\\\r\\\\n### Category of Document: Business Document\\\\r\\\\n### Document Title: Marketing Plan\\\\r\\\\n\\\\r\\\\n---\\\\r\\\\n\\\\r\\\\n#### <strong>Marketing Plan for Social Media Marketing Services</strong>\\\\r\\\\n\\\\r\\\\n<strong>Market Analysis:</strong>\\\\r\\\\n- Analysis of current social media marketing trends and competitive landscape.\\\\r\\\\n- Identification of key target industries and potential clients for social media marketing services.\\\\r\\\\n\\\\r\\\\n<strong>Target Audience:</strong>\\\\r\\\\n- Small businesses, startups, and e-commerce ventures looking to enhance their online presence.\\\\r\\\\n- Brands seeking to engage with a younger demographic through social media platforms.\\\\r\\\\n\\\\r\\\\n<strong>Marketing Objectives:</strong>\\\\r\\\\n- Increase brand awareness and reach through targeted social media campaigns.\\\\r\\\\n- Drive customer engagement and conversions for client businesses.\\\\r\\\\n\\\\r\\\\n<strong>Strategies:</strong>\\\\r\\\\n- Develop personalized social media marketing strategies based on client goals and industry trends.\\\\r\\\\n- Utilize influencer collaborations, interactive content, and data-driven insights for optimized marketing campaigns.\\\\r\\\\n\\\\r\\\\n<strong>Tactics:</strong>\\\\r\\\\n- Content creation and curation for social media platforms.\\\\r\\\\n- Paid advertising campaigns targeting specific audience segments.\\\\r\\\\n- Regular performance tracking and analytics to measure campaign effectiveness.\\\\r\\\\n\\\\r\\\\n<strong>Budget:</strong>\\\\r\\\\n- Initial budget allocation of $20,000 for social media marketing campaigns and ad spend.\\\\r\\\\n- Budget may be adjusted based on campaign performance and client requirements.\\\\r\\\\n\\\\r\\\\n<strong>Timeline:</strong>\\\\r\\\\n- Campaign implementation and monitoring over a 3-month period.\\\\r\\\\n- Monthly reporting and analysis to track performance metrics and adjust strategies.\\\\r\\\\n\\\\r\\\\n<strong>Performance Metrics:</strong>\\\\r\\\\n- Key performance indicators include website traffic, engagement rates, lead generation, and conversion metrics.\\\\r\\\\n- Monthly reports to be generated for clients to review campaign progress and ROI.\\\\r\\\\n\\\\r\\\\n---\\\\r\\\\n\\\\r\\\\n#### <strong>Marketing Plan for Influencer Collaboration Services</strong>\\\\r\\\\n\\\\r\\\\n<strong>Market Analysis:</strong>\\\\r\\\\n- Evaluation of influencer marketing trends and industry benchmarks.\\\\r\\\\n- Identification of relevant influencers in target industries for potential collaborations.\\\\r\\\\n\\\\r\\\\n<strong>Target Audience:</strong>\\\\r\\\\n- Fashion brands, lifestyle products, and beauty companies looking to leverage influencer partnerships.\\\\r\\\\n- Brands aiming to tap into niche markets and increase brand advocacy through influencer endorsements.\\\\r\\\\n\\\\r\\\\n<strong>Marketing Objectives:</strong>\\\\r\\\\n- Establish authentic brand partnerships with influencers to amplify brand reach and credibility.\\\\r\\\\n- Drive user engagement and brand affinity through influencer-generated content.\\\\r\\\\n\\\\r\\\\n<strong>Strategies:</strong>\\\\r\\\\n- Strategic selection of influencers based on brand fit, audience alignment, and engagement metrics.\\\\r\\\\n- Co-creation of compelling content with influencers to resonate with target audiences.\\\\r\\\\n\\\\r\\\\n<strong>Tactics:</strong>\\\\r\\\\n- Influencer outreach and negotiations for collaboration agreements.\\\\r\\\\n- Performance monitoring and analysis of influencer campaigns for optimization.\\\\r\\\\n- Leveraging influencer content across multiple platforms for extended reach.\\\\r\\\\n\\\\r\\\\n<strong>Budget:</strong>\\\\r\\\\n- Allocated budget of $15,000 for influencer collaborations and content creation.\\\\r\\\\n- Budget flexibility to accommodate high-profile influencers and extended campaign durations.\\\\r\\\\n\\\\r\\\\n<strong>Timeline:</strong>\\\\r\\\\n- Influencer campaign planning and execution over a 2-month period.\\\\r\\\\n- Real-time monitoring of influencer performance and content engagement.\\\\r\\\\n\\\\r\\\\n<strong>Performance Metrics:</strong>\\\\r\\\\n- Metrics include influencer reach, engagement rates, content virality, and brand sentiment.\\\\r\\\\n- Data-driven insights to measure the impact of influencer collaborations on brand visibility and customer perception.\\\\r\\\\n\\\\r\\\\n---\\\\r\\\\n\\\\r\\\\n#### <strong>Marketing Plan for Content Creation and Curation Services</strong>\\\\r\\\\n\\\\r\\\\n<strong>Market Analysis:</strong>\\\\r\\\\n- Assessment of content marketing trends and visual storytelling strategies.\\\\r\\\\n- Understanding of audience preferences and content consumption habits on social media platforms.\\\\r\\\\n\\\\r\\\\n<strong>Target Audience:</strong>\\\\r\\\\n- Media companies, creative agencies, and lifestyle brands seeking to enhance their content quality and engagement.\\\\r\\\\n- Businesses looking to establish a consistent and visually appealing brand identity through curated content.\\\\r\\\\n\\\\r\\\\n<strong>Marketing Objectives:</strong>\\\\r\\\\n- Elevate brand storytelling through visually captivating and engaging content formats.\\\\r\\\\n- Increase audience interaction and user-generated content through immersive brand experiences.\\\\r\\\\n\\\\r\\\\n<strong>Strategies:</strong>\\\\r\\\\n- Tailored content planning and production based on brand guidelines and audience insights.\\\\r\\\\n- Implementing user-generated content campaigns and interactive storytelling elements for enhanced audience engagement\\'</p><p>b\"# Board of Directors\\\\r\\\\n\\\\r\\\\nThe Board of Directors of Instagram consists of highly experienced professionals who provide strategic guidance and oversight to ensure the success and growth of the company. The board members bring diverse expertise and perspectives to the table, contributing to the overall vision and direction of Instagram.\\\\r\\\\n\\\\r\\\\n## Board Composition\\\\r\\\\n\\\\r\\\\nThe Board of Directors of Instagram is composed of the following members:\\\\r\\\\n\\\\r\\\\n1. <strong>John Smith</strong> - Chairman of the Board<br>\\\\r\\\\n   John Smith is an accomplished business leader with over 20 years of experience in the technology industry. He has served as the Chairman of the Board since 2015 and has been instrumental in shaping Instagram\\'s strategic vision.\\\\r\\\\n\\\\r\\\\n2. <strong>Sarah Johnson</strong> - CEO, Instagram<br>\\\\r\\\\n   Sarah Johnson is the Chief Executive Officer of Instagram, responsible for driving the company\\'s overall growth and success. With her strong leadership skills and deep understanding of social media platforms, Sarah has played a pivotal role in Instagram\\'s evolution.\\\\r\\\\n\\\\r\\\\n3. <strong>David Lee</strong> - Chief Financial Officer<br>\\\\r\\\\n   David Lee brings extensive financial expertise to the board. As the CFO of Instagram, he is responsible for financial planning, analysis, and strategic investments. David\\'s financial acumen has been instrumental in ensuring the company\\'s financial stability and sustainable growth.\\\\r\\\\n\\\\r\\\\n4. <strong>Emily Davis</strong> - Chief Marketing Officer<br>\\\\r\\\\n   Emily Davis is the Chief Marketing Officer at Instagram, overseeing all marketing and branding initiatives. With her innovative marketing strategies and deep understanding of consumer behavior, Emily has played a key role in expanding Instagram\\'s user base and increasing brand awareness.\\\\r\\\\n\\\\r\\\\n## Contributions and Achievements\\\\r\\\\n\\\\r\\\\nThe Board of Directors has played a crucial role in Instagram\\'s success and achievements over the years. Some of their notable contributions include:\\\\r\\\\n\\\\r\\\\n- Guiding Instagram through its acquisition by Facebook and ensuring the preservation of its unique identity and features.\\\\r\\\\n- Providing strategic guidance in the development and introduction of new features such as Stories, IGTV, and Reels, which have revolutionized content sharing and engagement on the platform.\\\\r\\\\n- Supporting the launch of various initiatives to foster a safe and inclusive community, such as proactive content moderation practices and the promotion of positive online behavior.\\\\r\\\\n- Overseeing the expansion of Instagram\\'s user base to over 1 billion monthly active users worldwide, making it one of the most popular social media platforms globally.\\\\r\\\\n\\\\r\\\\nThe Board of Directors remains committed to driving Instagram\\'s growth, fostering innovation, and maintaining a vibrant and inclusive community for users worldwide.\\\\r\\\\n\\\\r\\\\n## Contact Information\\\\r\\\\n\\\\r\\\\nFor any inquiries or feedback regarding the Board of Directors, please contact us:\\\\r\\\\n\\\\r\\\\nEmail: boardofdirectors@instagram.com\\\\r\\\\nPhone: +1-123-456-7890\"</p><p>b\"# About Instagram\\\\r\\\\n\\\\r\\\\n<strong>Overview</strong>\\\\r\\\\n\\\\r\\\\nInstagram is a popular social media platform that allows users to share photos, videos, and stories with their followers. Launched in 2010, Instagram quickly gained widespread popularity due to its user-friendly interface and focus on visual content. The platform was acquired by Facebook in 2012 but has since maintained its own distinct identity and features. Instagram is more than just a social media platform\\\\x97it\\'s a vibrant community where users can connect, create, and be inspired.\\\\r\\\\n\\\\r\\\\n<strong>Mission and Values</strong>\\\\r\\\\n\\\\r\\\\nInstagram\\'s mission is to provide a platform for individuals and businesses to express themselves, connect with others, and share their stories with the world. We believe in the power of visual storytelling and strive to foster an inclusive and supportive community that encourages creativity, authenticity, and positivity. Our core values include:\\\\r\\\\n\\\\r\\\\n- Creativity: We celebrate the power of creative expression and provide tools and features that enable users to showcase their unique perspectives.\\\\r\\\\n- Connection: We believe in the ability of social media to connect people from all walks of life, fostering meaningful relationships and inspiring collaboration.\\\\r\\\\n- Authenticity: We promote authenticity and transparency, encouraging users to be their true selves and share their genuine experiences.\\\\r\\\\n- Innovation: We continuously innovate and evolve our platform to meet the changing needs and preferences of our diverse user base.\\\\r\\\\n\\\\r\\\\n<strong>History</strong>\\\\r\\\\n\\\\r\\\\nInstagram was founded by Mike Krieger and Kevin Systrom in 2010. The platform started as a simple photo-sharing app but quickly gained traction among users, attracting millions of users within a short span of time. In 2012, Instagram caught the attention of Facebook, leading to its acquisition. Since then, Instagram has grown exponentially, introducing new features like Stories, Direct messaging, Explore, IGTV, and Reels to enhance the user experience and expand the possibilities of visual storytelling.\\\\r\\\\n\\\\r\\\\n<strong>Key Personnel</strong>\\\\r\\\\n\\\\r\\\\n- Mike Krieger - Co-founder\\\\r\\\\n- Kevin Systrom - Co-founder\\\\r\\\\n\\\\r\\\\n<strong>Approach to Business</strong>\\\\r\\\\n\\\\r\\\\nAt Instagram, we believe in providing a seamless and user-friendly experience through our platform. We prioritize user feedback and continuously iterate our features and functionalities to ensure they meet the evolving needs and preferences of our community. We also strive to maintain a safe and inclusive environment by implementing strict content policies and proactive moderation practices.\\\\r\\\\n\\\\r\\\\n<strong>Customer Focus</strong>\\\\r\\\\n\\\\r\\\\nOur users are at the heart of everything we do. We are committed to listening to their feedback, addressing their concerns, and implementing features that enhance their overall experience on Instagram. We believe in fostering a sense of belonging and empowerment by providing a platform that allows every individual to express themselves and connect with others.\\\\r\\\\n\\\\r\\\\n<strong>Achievements</strong>\\\\r\\\\n\\\\r\\\\nThroughout our journey, Instagram has achieved significant milestones and contributed to the digital landscape in various ways. Some of our notable achievements include:\\\\r\\\\n\\\\r\\\\n- Surpassing 1 billion monthly active users worldwide\\\\r\\\\n- Introducing features like Stories, IGTV, and Reels, which have revolutionized content sharing and consumption\\\\r\\\\n- Facilitating collaborations between creators, businesses, and influencers\\\\r\\\\n- Supporting numerous charitable initiatives and advocacy campaigns\\\\r\\\\n\\\\r\\\\n<strong>Community Involvement</strong>\\\\r\\\\n\\\\r\\\\nWe take pride in the vibrant community of creators, artists, influencers, and individuals who make Instagram a dynamic and inspiring platform. We actively support and encourage community engagement, whether through amplifying important causes, showcasing emerging talents, or facilitating connections between users with shared interests.\\\\r\\\\n\\\\r\\\\n<strong>Contact Information</strong>\\\\r\\\\n\\\\r\\\\nFor any inquiries or feedback, please feel free to reach out to us:\\\\r\\\\n\\\\r\\\\nEmail: info@instagram.com\\\\r\\\\nPhone: +1-123-456-7890\\\\r\\\\n\\\\r\\\\nJoin the Instagram community today and start sharing your story with the world!\\\\r\\\\n\"</p><p>b\"# Shareholders\\\\r\\\\n\\\\r\\\\nThis page provides information about the shareholders of Instagram. We believe in transparency and want to establish trust with our community by sharing details about our ownership structure and the individuals or entities that hold shares in our company.\\\\r\\\\n\\\\r\\\\n## Ownership Structure\\\\r\\\\n\\\\r\\\\nInstagram is a private company and is currently wholly owned by Facebook Inc. Since its acquisition by Facebook in 2012, Instagram has operated as a separate entity but benefits from the resources and support of its parent company.\\\\r\\\\n\\\\r\\\\n## Major Shareholders\\\\r\\\\n\\\\r\\\\nThe major shareholders of Instagram are individuals and entities who have a significant ownership stake in the company. Their contributions and support have been instrumental in the growth and success of the platform. The following are some of our major shareholders:\\\\r\\\\n\\\\r\\\\n1. <strong>Facebook Inc.</strong> - As the parent company, Facebook Inc. holds 100% of the shares of Instagram. Facebook Inc. is a global technology company with a diverse portfolio of platforms and services.\\\\r\\\\n\\\\r\\\\n2. <strong>Sarah Johnson</strong> - Sarah Johnson, the CEO of Instagram, holds a significant stake in the company. Her leadership and vision have been invaluable in shaping Instagram\\'s direction and growth.\\\\r\\\\n\\\\r\\\\n3. <strong>John Smith</strong> - John Smith, the Chairman of the Board of Instagram, is also a major shareholder. With his extensive experience in the technology industry, he has contributed to the strategic guidance and success of Instagram.\\\\r\\\\n\\\\r\\\\n4. <strong>David Lee</strong> - David Lee, the Chief Financial Officer of Instagram, holds a significant share in the company. His financial expertise has played a vital role in ensuring the financial stability and growth of Instagram.\\\\r\\\\n\\\\r\\\\n## Shareholdings\\\\r\\\\n\\\\r\\\\nThe exact shareholdings of individual shareholders are confidential and not publicly disclosed. Instagram\\'s ownership structure is governed by the agreements and regulations established during its acquisition by Facebook Inc.\\\\r\\\\n\\\\r\\\\nPlease note that the information provided above is for informational purposes only and is subject to change.\\\\r\\\\n\\\\r\\\\nFor any inquiries or further information about our shareholders, please feel free to contact us.\\\\r\\\\n\\\\r\\\\nEmail: shareholders@instagram.com\\\\r\\\\nPhone: +1-123-456-7890\"</p><p>b\\'## Income Statement\\\\r\\\\n\\\\r\\\\n<strong>Company Name:</strong> XYZ Corporation\\\\r\\\\n\\\\r\\\\n<strong>For the Year Ended:</strong> December 31, 20XX\\\\r\\\\n\\\\r\\\\n| Category            | Amount      |\\\\r\\\\n|---------------------|-------------|\\\\r\\\\n| Revenue             | $500,000    |\\\\r\\\\n| Cost of Goods Sold  | $200,000    |\\\\r\\\\n| Gross Profit        | $300,000    |\\\\r\\\\n| Operating Expenses  | $150,000    |\\\\r\\\\n| Operating Income    | $150,000    |\\\\r\\\\n| Non-Operating Items | $10,000     |\\\\r\\\\n| Income Before Taxes | $160,000    |\\\\r\\\\n| Income Taxes        | $40,000     |\\\\r\\\\n| Net Income          | $120,000    |\\'</p><p>b\\'\\\\r\\\\n# Employment Contract\\\\r\\\\n\\\\r\\\\n## Employee Information:\\\\r\\\\n- <strong>Employee Name:</strong> Emily Brown\\\\r\\\\n- <strong>Position:</strong> UX Designer\\\\r\\\\n- <strong>Department:</strong> Design\\\\r\\\\n\\\\r\\\\n## Terms and Conditions:\\\\r\\\\n- <strong>Responsibilities:</strong> Designing user interfaces and experiences.\\\\r\\\\n- <strong>Compensation:</strong> $90,000 per year\\\\r\\\\n- <strong>Benefits:</strong> Health insurance, retirement plan\\\\r\\\\n- <strong>Work Hours:</strong> 40 hours per week\\\\r\\\\n- <strong>Termination Conditions:</strong> 30 days\\\\\\' notice\\\\r\\\\n- <strong>Confidentiality Agreement:</strong> Yes\\\\r\\\\n- <strong>Intellectual Property Rights:</strong> Company-owned\\\\r\\\\n- <strong>Compliance with Company Policies:</strong> Compliance required\\\\r\\\\n\\\\r\\\\nThis employment contract is entered into between Instagram (hereinafter referred to as \"Employer\") and Emily Brown (hereinafter referred to as \"Employee\") on April 1, 2022.\\\\r\\\\n\\\\r\\\\nThis contract outlines the terms and conditions of employment for the Employee and is effective as of the start date of April 1, 2022. Both the Employer and Employee agree to abide by the terms set forth in this contract.\\\\r\\\\n\\'</p><p>b\\'\\\\r\\\\n# Employment Contract\\\\r\\\\n\\\\r\\\\n## Employee Information:\\\\r\\\\n- <strong>Employee Name:</strong> Liam Kim\\\\r\\\\n- <strong>Position:</strong> Data Engineer\\\\r\\\\n- <strong>Department:</strong> Data Engineering\\\\r\\\\n\\\\r\\\\n## Terms and Conditions:\\\\r\\\\n- <strong>Responsibilities:</strong> Designing and maintaining data infrastructure.\\\\r\\\\n- <strong>Compensation:</strong> $105,000 per year\\\\r\\\\n- <strong>Benefits:</strong> Health insurance, retirement plan\\\\r\\\\n- <strong>Work Hours:</strong> 40 hours per week\\\\r\\\\n- <strong>Termination Conditions:</strong> 30 days\\\\\\' notice\\\\r\\\\n- <strong>Confidentiality Agreement:</strong> Yes\\\\r\\\\n- <strong>Intellectual Property Rights:</strong> Company-owned\\\\r\\\\n- <strong>Compliance with Company Policies:</strong> Compliance required\\\\r\\\\n\\\\r\\\\nThis employment contract is entered into between Instagram (hereinafter referred to as \"Employer\") and Liam Kim (hereinafter referred to as \"Employee\") on August 1, 2023.\\\\r\\\\n\\\\r\\\\nThis contract outlines the terms and conditions of employment for the Employee and is effective as of the start date of August 1, 2023. Both the Employer and Employee agree to abide by the terms set forth in this contract.\\\\r\\\\n\\'</p><p>b\\'\\\\r\\\\n# Employee Stock Ownership Plan (ESOP)\\\\r\\\\n\\\\r\\\\n## Employee Information:\\\\r\\\\n- <strong>Employee Name:</strong> Mia Hernandez\\\\r\\\\n- <strong>Position:</strong> Public Relations Manager\\\\r\\\\n- <strong>Department:</strong> Public Relations\\\\r\\\\n\\\\r\\\\n## ESOP Details:\\\\r\\\\n- <strong>Allocation of Shares:</strong> 110 shares\\\\r\\\\n- <strong>Vesting Schedule:</strong> 4-year vesting schedule\\\\r\\\\n- <strong>Eligibility Criteria:</strong> Full-time employment\\\\r\\\\n- <strong>Valuation Methods:</strong> Fair market value\\\\r\\\\n- <strong>Rights and Responsibilities:</strong> Voting rights, dividend entitlement\\\\r\\\\n\\\\r\\\\nThis Employee Stock Ownership Plan (ESOP) is entered into between Instagram (hereinafter referred to as \"Employer\") and Mia Hernandez (hereinafter referred to as \"Employee\") on January 1, 2023.\\\\r\\\\n\\\\r\\\\nThe ESOP details the allocation of shares, vesting schedule, eligibility criteria, valuation methods, and the rights and responsibilities of participating employees. This plan aims to provide employees with an ownership interest in the company, aligning their interests with that of the company.\\\\r\\\\n\\'</p><p>b\\'\\\\r\\\\n# Employee Payslip\\\\r\\\\n\\\\r\\\\n## Employee Information:\\\\r\\\\n- <strong>Employee Name:</strong> Michael Johnson\\\\r\\\\n- <strong>Employee ID:</strong> 12347\\\\r\\\\n- <strong>Position:</strong> Product Manager\\\\r\\\\n- <strong>Department:</strong> Product Management\\\\r\\\\n\\\\r\\\\n## Pay Period:\\\\r\\\\n- <strong>Start Date:</strong> March 1, 2022\\\\r\\\\n- <strong>End Date:</strong> March 15, 2022\\\\r\\\\n\\\\r\\\\n## Earnings:\\\\r\\\\n- <strong>Basic Salary:</strong> $5,000.00\\\\r\\\\n- <strong>Allowances:</strong> $600.00\\\\r\\\\n- <strong>Bonuses:</strong> $1,200.00\\\\r\\\\n- <strong>Total Earnings:</strong> $6,800.00\\\\r\\\\n\\\\r\\\\n## Deductions:\\\\r\\\\n- <strong>Taxes:</strong> $1,200.00\\\\r\\\\n- <strong>Insurance Contributions:</strong> $240.00\\\\r\\\\n- <strong>Other Deductions:</strong> $120.00\\\\r\\\\n- <strong>Total Deductions:</strong> $1,560.00\\\\r\\\\n\\\\r\\\\n## Net Pay:\\\\r\\\\n- <strong>Net Pay:</strong> $5,240.00\\\\r\\\\n\\\\r\\\\nThis Employee Payslip is issued to Michael Johnson for the pay period from March 1, 2022 to March 15, 2022. It provides a detailed breakdown of earnings, deductions, and the net pay for the specified period.\\\\r\\\\n\\'</p><p>b\"# Employee Handbook\\\\r\\\\n\\\\r\\\\n## Company Name: Instagram\\\\r\\\\n\\\\r\\\\n### Table of Contents\\\\r\\\\n1. Introduction\\\\r\\\\n2. Mission and Values\\\\r\\\\n3. Code of Conduct\\\\r\\\\n4. Anti-Discrimination and Harassment Policies\\\\r\\\\n5. Leave and Attendance Policies\\\\r\\\\n6. Performance Management Processes\\\\r\\\\n7. Employee Benefits\\\\r\\\\n8. Contact Information\\\\r\\\\n\\\\r\\\\n## 1. Introduction\\\\r\\\\nWelcome to Instagram! This Employee Handbook is designed to provide you with important information about our company policies, procedures, benefits, and expectations. Please take the time to read through this handbook carefully and refer back to it whenever you have questions about your rights and responsibilities as an employee.\\\\r\\\\n\\\\r\\\\n## 2. Mission and Values\\\\r\\\\nAt Instagram, our mission is to provide a platform where users can connect, create, and be inspired. We value creativity, diversity, and inclusion in everything we do. It is important that all employees align with our mission and values to create a positive and inclusive work environment.\\\\r\\\\n\\\\r\\\\n## 3. Code of Conduct\\\\r\\\\nEmployees are expected to conduct themselves in a professional manner at all times. This includes treating all colleagues and customers with respect, maintaining confidentiality of company information, and following all company policies and procedures.\\\\r\\\\n\\\\r\\\\n## 4. Anti-Discrimination and Harassment Policies\\\\r\\\\nInstagram is committed to providing a work environment free from discrimination and harassment. Any form of discrimination or harassment based on race, gender, age, religion, or any other protected characteristic will not be tolerated.\\\\r\\\\n\\\\r\\\\n## 5. Leave and Attendance Policies\\\\r\\\\nEmployees are expected to adhere to the company\\'s leave and attendance policies. This includes requesting time off in advance, accurately reporting hours worked, and notifying their supervisor in case of any unplanned absences.\\\\r\\\\n\\\\r\\\\n## 6. Performance Management Processes\\\\r\\\\nPerformance evaluations are conducted regularly to provide feedback on employee performance. Employees are encouraged to set goals and work towards continuous improvement in their roles.\\\\r\\\\n\\\\r\\\\n## 7. Employee Benefits\\\\r\\\\nInstagram offers a variety of benefits to eligible employees, including health insurance, retirement plans, paid time off, and more. Please refer to the HR department for detailed information on the benefits available to you.\\\\r\\\\n\\\\r\\\\n## 8. Contact Information\\\\r\\\\nIf you have any questions or concerns regarding the information in this Employee Handbook, please contact the HR department at [HR email address] or [HR phone number].\"</p>',\n",
       "  {'entities': [[27, 40, 'ORGANIZATION'],\n",
       "    [1441, 1448, 'MONEY'],\n",
       "    [3362, 3369, 'MONEY'],\n",
       "    [5108, 5117, 'ORGANIZATION'],\n",
       "    [5454, 5463, 'ORGANIZATION'],\n",
       "    [5520, 5530, 'PEOPLE'],\n",
       "    [5574, 5584, 'PEOPLE'],\n",
       "    [5820, 5833, 'PEOPLE'],\n",
       "    [5850, 5859, 'ORGANIZATION'],\n",
       "    [5870, 5883, 'PEOPLE'],\n",
       "    [6079, 6084, 'PEOPLE'],\n",
       "    [6155, 6164, 'PEOPLE'],\n",
       "    [6210, 6219, 'PEOPLE'],\n",
       "    [6510, 6521, 'PEOPLE'],\n",
       "    [6567, 6578, 'PEOPLE'],\n",
       "    [7071, 7080, 'ORGANIZATION'],\n",
       "    [7108, 7116, 'ORGANIZATION'],\n",
       "    [7597, 7608, 'ORGANIZATION'],\n",
       "    [7795, 7806, 'ORGANIZATION'],\n",
       "    [8027, 8099, 'CONTACT_INFO'],\n",
       "    [8116, 8133, 'ORGANIZATION'],\n",
       "    [8158, 8175, 'ORGANIZATION'],\n",
       "    [8306, 8315, 'ORGANIZATION'],\n",
       "    [8446, 8454, 'ORGANIZATION'],\n",
       "    [8528, 8537, 'ORGANIZATION'],\n",
       "    [8700, 8719, 'ORGANIZATION'],\n",
       "    [9716, 9728, 'PEOPLE'],\n",
       "    [9733, 9746, 'PEOPLE'],\n",
       "    [9915, 9924, 'ORGANIZATION'],\n",
       "    [9999, 10008, 'ORGANIZATION'],\n",
       "    [10247, 10259, 'PEOPLE'],\n",
       "    [10278, 10291, 'PEOPLE'],\n",
       "    [10360, 10369, 'ORGANIZATION'],\n",
       "    [12210, 12281, 'CONTACT_INFO'],\n",
       "    [12286, 12295, 'ORGANIZATION'],\n",
       "    [12749, 12762, 'ORGANIZATION'],\n",
       "    [12788, 12796, 'ORGANIZATION'],\n",
       "    [12979, 12988, 'ORGANIZATION'],\n",
       "    [13239, 13252, 'ORGANIZATION'],\n",
       "    [13287, 13300, 'ORGANIZATION'],\n",
       "    [13329, 13339, 'ORGANIZATION'],\n",
       "    [13340, 13353, 'ORGANIZATION'],\n",
       "    [13455, 13468, 'PEOPLE'],\n",
       "    [13480, 13493, 'PEOPLE'],\n",
       "    [13506, 13515, 'ORGANIZATION'],\n",
       "    [13617, 13628, 'ORGANIZATION'],\n",
       "    [13669, 13679, 'PEOPLE'],\n",
       "    [13691, 13701, 'PEOPLE'],\n",
       "    [13732, 13741, 'ORGANIZATION'],\n",
       "    [13919, 13928, 'PEOPLE'],\n",
       "    [13940, 13949, 'PEOPLE'],\n",
       "    [14387, 14395, 'ORGANIZATION'],\n",
       "    [14617, 14688, 'CONTACT_INFO'],\n",
       "    [14755, 14778, 'ORGANIZATION'],\n",
       "    [14946, 14954, 'MONEY'],\n",
       "    [14987, 14995, 'MONEY'],\n",
       "    [15028, 15036, 'MONEY'],\n",
       "    [15069, 15077, 'MONEY'],\n",
       "    [15110, 15118, 'MONEY'],\n",
       "    [15151, 15158, 'MONEY'],\n",
       "    [15192, 15200, 'MONEY'],\n",
       "    [15233, 15240, 'MONEY'],\n",
       "    [15274, 15282, 'MONEY'],\n",
       "    [15392, 15408, 'PEOPLE'],\n",
       "    [15640, 15647, 'MONEY'],\n",
       "    [16089, 16098, 'ORGANIZATION'],\n",
       "    [16143, 16154, 'PEOPLE'],\n",
       "    [16550, 16563, 'PEOPLE'],\n",
       "    [16811, 16819, 'MONEY'],\n",
       "    [17315, 17323, 'PEOPLE'],\n",
       "    [17738, 17756, 'PEOPLE'],\n",
       "    [18287, 18296, 'ORGANIZATION'],\n",
       "    [18341, 18354, 'PEOPLE'],\n",
       "    [18823, 18843, 'PEOPLE'],\n",
       "    [19154, 19168, 'MONEY'],\n",
       "    [19198, 19210, 'MONEY'],\n",
       "    [19237, 19251, 'MONEY'],\n",
       "    [19285, 19302, 'MONEY'],\n",
       "    [19346, 19360, 'MONEY'],\n",
       "    [19403, 19415, 'MONEY'],\n",
       "    [19451, 19463, 'MONEY'],\n",
       "    [19499, 19516, 'MONEY'],\n",
       "    [19559, 19580, 'MONEY'],\n",
       "    [19611, 19626, 'PEOPLE'],\n",
       "    [19841, 19858, 'ORGANIZATION'],\n",
       "    [20161, 20170, 'ORGANIZATION'],\n",
       "    [20520, 20529, 'ORGANIZATION'],\n",
       "    [21920, 21941, 'ORGANIZATION']]}]]"
      ]
     },
     "execution_count": 44,
     "metadata": {},
     "output_type": "execute_result"
    }
   ],
   "source": [
    "data['annotations']"
   ]
  },
  {
   "cell_type": "code",
   "execution_count": null,
   "metadata": {},
   "outputs": [],
   "source": [
    "prdnlp = train_spacy(TRAIN_DATA, 20)\n",
    "\n",
    "# Save our trained Model\n",
    "modelfile = input(\"Enter your Model Name: \")\n",
    "prdnlp.to_disk(modelfile)"
   ]
  }
 ],
 "metadata": {
  "kernelspec": {
   "display_name": "majorproject",
   "language": "python",
   "name": "python3"
  },
  "language_info": {
   "codemirror_mode": {
    "name": "ipython",
    "version": 3
   },
   "file_extension": ".py",
   "mimetype": "text/x-python",
   "name": "python",
   "nbconvert_exporter": "python",
   "pygments_lexer": "ipython3",
   "version": "3.9.7"
  }
 },
 "nbformat": 4,
 "nbformat_minor": 2
}
